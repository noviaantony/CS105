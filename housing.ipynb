{
 "cells": [
  {
   "cell_type": "markdown",
   "metadata": {},
   "source": [
    "<div class=\"alert alert-block alert-info\">\n",
    "Singapore Management University<br>\n",
    "CS105 Statistical Thinking for Data Science, 2021/22 Term 2\n",
    "</div>"
   ]
  },
  {
   "cell_type": "markdown",
   "metadata": {
    "colab_type": "text",
    "id": "zYBbWb-0Kc6H"
   },
   "source": [
    "# CS105 Group Project Submission (Final)"
   ]
  },
  {
   "attachments": {
    "info.png": {
     "image/png": "[encoded data removed]"
    }
   },
   "cell_type": "markdown",
   "metadata": {},
   "source": [
    "-----\n",
    "<img src=\"attachment:info.png\" width=\"60\" align=\"left\"/>Provide your team details, including section, team number, team members, and the name of the dataset. \n",
    "Complete all of the following sections. For any part requiring code to derive your answers, please create a code cell immediately below your response and run the code.\n",
    "To edit any markdown cell, double click the cell; after editing, execute the markdown cell to collapse it.\n",
    "\n",
    "Include both Part I and Part II to produce a self-contained notebook. You may fine-tune Part I codes and/or findings based on feedback received on Part I submission.\n",
    "<br>\n",
    "-----"
   ]
  },
  {
   "cell_type": "markdown",
   "metadata": {},
   "source": [
    "#### Section: G2\n",
    "#### Team: T2\n",
    "#### Members:\n",
    "1. Chen Zhao Xing\n",
    "2. Chong Yuan Sheng\n",
    "3. Lee Shao Dong\n",
    "4. Novia Antony\n",
    "5. Tan Zheng\n",
    "\n",
    "#### Dataset: Housing"
   ]
  },
  {
   "cell_type": "markdown",
   "metadata": {},
   "source": [
    "## Part I: Exploratory Data Analysis (EDA) [8% of final grade]"
   ]
  },
  {
   "cell_type": "markdown",
   "metadata": {},
   "source": [
    "### 1. Overview of dataset [15% of Part I]"
   ]
  },
  {
   "cell_type": "code",
   "execution_count": 1,
   "metadata": {},
   "outputs": [],
   "source": [
    "import numpy as np\n",
    "import pandas as pd\n",
    "import statistics as stats\n",
    "import matplotlib.pyplot as plt"
   ]
  },
  {
   "cell_type": "code",
   "execution_count": 2,
   "metadata": {},
   "outputs": [],
   "source": [
    "df = pd.read_csv('housing.csv')"
   ]
  },
  {
   "cell_type": "markdown",
   "metadata": {},
   "source": [
    "**a.** Summarise the background of the dataset [limited to 50 words]"
   ]
  },
  {
   "cell_type": "markdown",
   "metadata": {},
   "source": [
    "**Response.** "
   ]
  },
  {
   "cell_type": "markdown",
   "metadata": {},
   "source": [
    "The dataset contains data from a census survey with regards to housing in a region. We are interested in investigating the relational factors that affect the welfare of a town, hence each row corresponds to a town, and values of each attribute is for each town."
   ]
  },
  {
   "cell_type": "markdown",
   "metadata": {},
   "source": [
    "**b.** State the size of the dataset"
   ]
  },
  {
   "cell_type": "markdown",
   "metadata": {},
   "source": [
    "**Response.** "
   ]
  },
  {
   "cell_type": "code",
   "execution_count": 3,
   "metadata": {},
   "outputs": [
    {
     "name": "stdout",
     "output_type": "stream",
     "text": [
      "# of rows is 506\n",
      "# of columns is 14\n"
     ]
    }
   ],
   "source": [
    "n_rows, n_cols = df.shape\n",
    "print(f\"# of rows is {n_rows}\")\n",
    "print(f\"# of columns is {n_cols}\")"
   ]
  },
  {
   "cell_type": "markdown",
   "metadata": {},
   "source": [
    "Since there are 506 rows and 14 columns, the dataset has a **sample size of 506** towns being evaluated and data of **14 attributes** being collected."
   ]
  },
  {
   "cell_type": "markdown",
   "metadata": {},
   "source": [
    "**c.** For each variable, describe what it represents and its data type (numerical or categorical)\n"
   ]
  },
  {
   "cell_type": "markdown",
   "metadata": {},
   "source": [
    "**Response.**"
   ]
  },
  {
   "cell_type": "markdown",
   "metadata": {},
   "source": [
    "Using df.info(), we will now explore the data type of each column."
   ]
  },
  {
   "cell_type": "code",
   "execution_count": 4,
   "metadata": {},
   "outputs": [
    {
     "name": "stdout",
     "output_type": "stream",
     "text": [
      "<class 'pandas.core.frame.DataFrame'>\n",
      "RangeIndex: 506 entries, 0 to 505\n",
      "Data columns (total 14 columns):\n",
      " #   Column                 Non-Null Count  Dtype  \n",
      "---  ------                 --------------  -----  \n",
      " 0   ID                     488 non-null    float64\n",
      " 1   Crime_Rate             506 non-null    object \n",
      " 2   Residential_Area       506 non-null    object \n",
      " 3   Non_Retail             506 non-null    float64\n",
      " 4   River                  506 non-null    object \n",
      " 5   Pollutants             506 non-null    float64\n",
      " 6   Rooms                  506 non-null    float64\n",
      " 7   Old_Housing            506 non-null    float64\n",
      " 8   Distance_Office        506 non-null    float64\n",
      " 9   Highway_Access         491 non-null    object \n",
      " 10  Tax_Rate               506 non-null    int64  \n",
      " 11  Student_Teacher_Ratio  506 non-null    float64\n",
      " 12  Low_Income             506 non-null    float64\n",
      " 13  Price                  506 non-null    float64\n",
      "dtypes: float64(9), int64(1), object(4)\n",
      "memory usage: 55.5+ KB\n"
     ]
    }
   ],
   "source": [
    "df.info()"
   ]
  },
  {
   "cell_type": "markdown",
   "metadata": {},
   "source": [
    "In addition, we have inserted a data dictionary to summarise and describe the variables explored in this project."
   ]
  },
  {
   "cell_type": "markdown",
   "metadata": {},
   "source": [
    "|Name|Explanation |Data Type|Details|\n",
    "|---|---|---|---|\n",
    "|Id| Identification Number |Categorical|\n",
    "|Crime_Rate|Crime rate per capita |Categorical|\"High\", \"Moderate\", \"Low\"|\n",
    "|Residential_Area|Proportion of residential area |Categorical|\"Very High\", \"High\" \"Moderate\", \"Low\", \"Very Low\"|\n",
    "|Non-Retail|Percentage of business areas used for non-retail |Numerical| \n",
    "|River|Near Bridge |Categorical|\"Near\", \"Far\"|\n",
    "|Pollutants|Concentration of pollutants (parts per 10 million)|Numerical|\n",
    "|Rooms |Number of rooms per unit|Numerical|\n",
    "|Old_Housing |Percentage of units built before second world war|Numerical| \n",
    "|Distance_Office|Weighted distances to major office areas  |Numerical|\n",
    "|Highway_Access|Accessibility to major highways|Categorical|\"High”, “Moderate”, “Low”|\n",
    "|Tax_Rate|Property tax rate per \\$10,000 |Numerical|\n",
    "|Student_Teacher_Ratio|Student to teacher ratio |Numerical|\n",
    "|Low_Income |Percentage of low income households |Numerical|\n",
    "|Price|Median price of homes in (in \\$1000s) |Numerical|"
   ]
  },
  {
   "cell_type": "code",
   "execution_count": 5,
   "metadata": {},
   "outputs": [],
   "source": [
    "### 2. Data pre-processing [35% of Part I]"
   ]
  },
  {
   "cell_type": "markdown",
   "metadata": {},
   "source": [
    "**a.** For each variable, determine the percentage of missing data. For any column with missing data, describe how you resolve the issue. Clearly state any assumption you made."
   ]
  },
  {
   "cell_type": "code",
   "execution_count": 6,
   "metadata": {},
   "outputs": [
    {
     "data": {
      "text/plain": [
       "ID                       0.964427\n",
       "Crime_Rate               1.000000\n",
       "Residential_Area         1.000000\n",
       "Non_Retail               1.000000\n",
       "River                    1.000000\n",
       "Pollutants               1.000000\n",
       "Rooms                    1.000000\n",
       "Old_Housing              1.000000\n",
       "Distance_Office          1.000000\n",
       "Highway_Access           0.970356\n",
       "Tax_Rate                 1.000000\n",
       "Student_Teacher_Ratio    1.000000\n",
       "Low_Income               1.000000\n",
       "Price                    1.000000\n",
       "dtype: float64"
      ]
     },
     "execution_count": 6,
     "metadata": {},
     "output_type": "execute_result"
    }
   ],
   "source": [
    "df.count() / n_rows "
   ]
  },
  {
   "cell_type": "markdown",
   "metadata": {},
   "source": [
    "**Response.** "
   ]
  },
  {
   "cell_type": "markdown",
   "metadata": {},
   "source": [
    "There are **2 columns with missing data namely ID and Highway_Access**. Firstly, as ID is a categorical data and with the assumption that the values are all **unique**. We are unable to impute the missing value as the ID does not have a mean nor a mode. Therefore, we have decided to **drop** the column, ID, since it is an identifier data that will not be as helpful for our analysis.\n",
    "\n",
    "Secondly, even though highway_access is a categorical data, it can only take the form of 3 types of value being \"High\", \"Moderate\" or \"Low\", therefore, we have decided to impute the missing value with the **mode** of the current highway_access.\n",
    "\n",
    "Hence the following process shown below:"
   ]
  },
  {
   "cell_type": "code",
   "execution_count": 7,
   "metadata": {},
   "outputs": [
    {
     "data": {
      "text/html": [
       "<div>\n",
       "<style scoped>\n",
       "    .dataframe tbody tr th:only-of-type {\n",
       "        vertical-align: middle;\n",
       "    }\n",
       "\n",
       "    .dataframe tbody tr th {\n",
       "        vertical-align: top;\n",
       "    }\n",
       "\n",
       "    .dataframe thead th {\n",
       "        text-align: right;\n",
       "    }\n",
       "</style>\n",
       "<table border=\"1\" class=\"dataframe\">\n",
       "  <thead>\n",
       "    <tr style=\"text-align: right;\">\n",
       "      <th></th>\n",
       "      <th>Crime_Rate</th>\n",
       "      <th>Residential_Area</th>\n",
       "      <th>Non_Retail</th>\n",
       "      <th>River</th>\n",
       "      <th>Pollutants</th>\n",
       "      <th>Rooms</th>\n",
       "      <th>Old_Housing</th>\n",
       "      <th>Distance_Office</th>\n",
       "      <th>Highway_Access</th>\n",
       "      <th>Tax_Rate</th>\n",
       "      <th>Student_Teacher_Ratio</th>\n",
       "      <th>Low_Income</th>\n",
       "      <th>Price</th>\n",
       "    </tr>\n",
       "  </thead>\n",
       "  <tbody>\n",
       "    <tr>\n",
       "      <th>0</th>\n",
       "      <td>Low</td>\n",
       "      <td>Very Low</td>\n",
       "      <td>2.31</td>\n",
       "      <td>Far</td>\n",
       "      <td>0.538</td>\n",
       "      <td>6.575</td>\n",
       "      <td>65.2</td>\n",
       "      <td>4.0900</td>\n",
       "      <td>Low</td>\n",
       "      <td>296</td>\n",
       "      <td>15.3</td>\n",
       "      <td>4.98</td>\n",
       "      <td>24.0</td>\n",
       "    </tr>\n",
       "    <tr>\n",
       "      <th>1</th>\n",
       "      <td>Low</td>\n",
       "      <td>Very Low</td>\n",
       "      <td>7.07</td>\n",
       "      <td>Far</td>\n",
       "      <td>0.469</td>\n",
       "      <td>6.421</td>\n",
       "      <td>78.9</td>\n",
       "      <td>4.9671</td>\n",
       "      <td>Low</td>\n",
       "      <td>242</td>\n",
       "      <td>17.8</td>\n",
       "      <td>9.14</td>\n",
       "      <td>21.6</td>\n",
       "    </tr>\n",
       "    <tr>\n",
       "      <th>2</th>\n",
       "      <td>Low</td>\n",
       "      <td>Very Low</td>\n",
       "      <td>7.07</td>\n",
       "      <td>Far</td>\n",
       "      <td>0.469</td>\n",
       "      <td>7.185</td>\n",
       "      <td>61.1</td>\n",
       "      <td>4.9671</td>\n",
       "      <td>Low</td>\n",
       "      <td>242</td>\n",
       "      <td>17.8</td>\n",
       "      <td>4.03</td>\n",
       "      <td>34.7</td>\n",
       "    </tr>\n",
       "    <tr>\n",
       "      <th>3</th>\n",
       "      <td>Low</td>\n",
       "      <td>Very Low</td>\n",
       "      <td>2.18</td>\n",
       "      <td>Far</td>\n",
       "      <td>0.458</td>\n",
       "      <td>6.998</td>\n",
       "      <td>45.8</td>\n",
       "      <td>6.0622</td>\n",
       "      <td>Low</td>\n",
       "      <td>222</td>\n",
       "      <td>18.7</td>\n",
       "      <td>2.94</td>\n",
       "      <td>33.4</td>\n",
       "    </tr>\n",
       "    <tr>\n",
       "      <th>4</th>\n",
       "      <td>Low</td>\n",
       "      <td>Very Low</td>\n",
       "      <td>2.18</td>\n",
       "      <td>Far</td>\n",
       "      <td>0.458</td>\n",
       "      <td>7.147</td>\n",
       "      <td>54.2</td>\n",
       "      <td>6.0622</td>\n",
       "      <td>Low</td>\n",
       "      <td>222</td>\n",
       "      <td>18.7</td>\n",
       "      <td>5.33</td>\n",
       "      <td>36.2</td>\n",
       "    </tr>\n",
       "  </tbody>\n",
       "</table>\n",
       "</div>"
      ],
      "text/plain": [
       "  Crime_Rate Residential_Area  Non_Retail River  Pollutants  Rooms  \\\n",
       "0        Low         Very Low        2.31   Far       0.538  6.575   \n",
       "1        Low         Very Low        7.07   Far       0.469  6.421   \n",
       "2        Low         Very Low        7.07   Far       0.469  7.185   \n",
       "3        Low         Very Low        2.18   Far       0.458  6.998   \n",
       "4        Low         Very Low        2.18   Far       0.458  7.147   \n",
       "\n",
       "   Old_Housing  Distance_Office Highway_Access  Tax_Rate  \\\n",
       "0         65.2           4.0900            Low       296   \n",
       "1         78.9           4.9671            Low       242   \n",
       "2         61.1           4.9671            Low       242   \n",
       "3         45.8           6.0622            Low       222   \n",
       "4         54.2           6.0622            Low       222   \n",
       "\n",
       "   Student_Teacher_Ratio  Low_Income  Price  \n",
       "0                   15.3        4.98   24.0  \n",
       "1                   17.8        9.14   21.6  \n",
       "2                   17.8        4.03   34.7  \n",
       "3                   18.7        2.94   33.4  \n",
       "4                   18.7        5.33   36.2  "
      ]
     },
     "execution_count": 7,
     "metadata": {},
     "output_type": "execute_result"
    }
   ],
   "source": [
    "df.drop(columns=[\"ID\"], inplace=True)\n",
    "df.head()"
   ]
  },
  {
   "cell_type": "code",
   "execution_count": 8,
   "metadata": {},
   "outputs": [
    {
     "data": {
      "text/plain": [
       "Moderate    279\n",
       "High        130\n",
       "Low          82\n",
       "Name: Highway_Access, dtype: int64"
      ]
     },
     "execution_count": 8,
     "metadata": {},
     "output_type": "execute_result"
    }
   ],
   "source": [
    "highwayaccess_mode = df.Highway_Access.mode()[0]  \n",
    "df.Highway_Access.value_counts()  # Verifying the mode"
   ]
  },
  {
   "cell_type": "markdown",
   "metadata": {},
   "source": [
    "Filling in the missing values with the computed mode:"
   ]
  },
  {
   "cell_type": "code",
   "execution_count": 9,
   "metadata": {},
   "outputs": [
    {
     "data": {
      "text/plain": [
       "Crime_Rate               506\n",
       "Residential_Area         506\n",
       "Non_Retail               506\n",
       "River                    506\n",
       "Pollutants               506\n",
       "Rooms                    506\n",
       "Old_Housing              506\n",
       "Distance_Office          506\n",
       "Highway_Access           506\n",
       "Tax_Rate                 506\n",
       "Student_Teacher_Ratio    506\n",
       "Low_Income               506\n",
       "Price                    506\n",
       "dtype: int64"
      ]
     },
     "execution_count": 9,
     "metadata": {},
     "output_type": "execute_result"
    }
   ],
   "source": [
    "df.Highway_Access.fillna(highwayaccess_mode, inplace=True)\n",
    "df.count() #verifying that values have been inputed"
   ]
  },
  {
   "cell_type": "markdown",
   "metadata": {},
   "source": [
    "**b.** For each variable, identify outliers (if any) and describe how you resolve the issue. Clearly state any assumption you made."
   ]
  },
  {
   "cell_type": "markdown",
   "metadata": {},
   "source": [
    "Assuming that for categorical data type, Crime_rate, Residental_Area, River and Highway_access, there will be **no outliers** since data regarding these factors are simply the composition of the sample we have selected.\n",
    "\n",
    "Hence, we will proceed to check for outliers for factors of numerical data type, **Non_Retail, Pollutants, Rooms, Old_Housing, Distance_Office, Tax_rate, Student_Teacher_Ratio, Low_Income and Price.**"
   ]
  },
  {
   "cell_type": "code",
   "execution_count": 10,
   "metadata": {},
   "outputs": [
    {
     "data": {
      "image/png": "[encoded data removed]",
      "text/plain": [
       "<Figure size 1440x1152 with 32 Axes>"
      ]
     },
     "metadata": {
      "needs_background": "light"
     },
     "output_type": "display_data"
    }
   ],
   "source": [
    "#box plot all the tables and find the \n",
    "df_numerics = df[[\"Non_Retail\",\"Pollutants\",\"Rooms\",\"Old_Housing\",\"Distance_Office\",\"Tax_Rate\",\"Student_Teacher_Ratio\", \"Low_Income\", \"Price\"]]\n",
    "df_numerics.plot(kind='box',  subplots=True, layout=(4, 8), figsize=(20, 16))\n",
    "plt.show()\n",
    "#Columns to clean - Rooms, Distance_office, student_teacher_ratio, low_income, Price"
   ]
  },
  {
   "cell_type": "markdown",
   "metadata": {},
   "source": [
    "Using the definition of an outlier, it is a point which falls **more than 1.5 times the interquartile range(IQR) above the upper quartile or below the lower quartile.**\n",
    "\n",
    "Hence, by generating the boxplots for each factor, we can determine the outliers which lies outside the range of value.\n",
    "\n",
    "From the boxplots shown above, there are outliers in the following variables:\n",
    "Rooms, Distance_office, Student_Teacher_ratio, Low_Income and Price.\n",
    "\n",
    "Thus, having a closer look at the variables consisting of outliers below:"
   ]
  },
  {
   "cell_type": "markdown",
   "metadata": {},
   "source": [
    "## Outliers in 'Rooms'"
   ]
  },
  {
   "cell_type": "code",
   "execution_count": 11,
   "metadata": {},
   "outputs": [
    {
     "data": {
      "image/png": "[encoded data removed]",
      "text/plain": [
       "<Figure size 1728x1152 with 8 Axes>"
      ]
     },
     "metadata": {
      "needs_background": "light"
     },
     "output_type": "display_data"
    }
   ],
   "source": [
    "df_numerics = df[[\"Rooms\"]]\n",
    "df_numerics.plot(kind='box',  subplots=True, layout=(2, 4), figsize=(24, 16))\n",
    "plt.show()"
   ]
  },
  {
   "cell_type": "code",
   "execution_count": 12,
   "metadata": {},
   "outputs": [
    {
     "name": "stdout",
     "output_type": "stream",
     "text": [
      "Acceptable range of values for rooms: (4.768999999999999, 7.753000000000001)\n",
      "\n",
      "Outlier Values:\n"
     ]
    },
    {
     "data": {
      "text/plain": [
       "32      59.500\n",
       "33     570.100\n",
       "34     609.600\n",
       "35     593.300\n",
       "36     584.100\n",
       "97       8.069\n",
       "98       7.820\n",
       "162      7.802\n",
       "163      8.375\n",
       "166      7.929\n",
       "180      7.765\n",
       "186      7.831\n",
       "195      7.875\n",
       "203      7.853\n",
       "204      8.034\n",
       "224      8.266\n",
       "225      8.725\n",
       "226      8.040\n",
       "232      8.337\n",
       "233      8.247\n",
       "253      8.259\n",
       "257      8.704\n",
       "262      8.398\n",
       "267      8.297\n",
       "280      7.820\n",
       "283      7.923\n",
       "364      8.780\n",
       "365      3.561\n",
       "367      3.863\n",
       "374      4.138\n",
       "384      4.368\n",
       "386      4.652\n",
       "406      4.138\n",
       "412      4.628\n",
       "414      4.519\n",
       "Name: Rooms, dtype: float64"
      ]
     },
     "execution_count": 12,
     "metadata": {},
     "output_type": "execute_result"
    }
   ],
   "source": [
    "Q1_Rooms = df.Rooms.quantile(0.25)\n",
    "Q3_Rooms = df.Rooms.quantile(0.75)\n",
    "\n",
    "IQR_Rooms = Q3_Rooms - Q1_Rooms\n",
    "\n",
    "lower_limit_Rooms = Q1_Rooms - 1.5*IQR_Rooms\n",
    "upper_limit_Rooms = Q3_Rooms + 1.5*IQR_Rooms\n",
    "\n",
    "print(f\"Acceptable range of values for rooms: {lower_limit_Rooms, upper_limit_Rooms}\\n\")\n",
    "\n",
    "print(\"Outlier Values:\")\n",
    "\n",
    "df_rooms_outliers = df.Rooms[(df.Rooms > upper_limit_Rooms) | (df.Rooms < lower_limit_Rooms)]\n",
    "df_rooms_outliers"
   ]
  },
  {
   "cell_type": "markdown",
   "metadata": {},
   "source": [
    "In the data for Rooms, there are **5 extreme outliers of value: 59.500, 570.100, 609.600, 593.300 and 584.100.** \n",
    "\n",
    "Upon analysis and research, we found that it is unrealistic and impossible for a town to have an average of 59.500 and above rooms per unit. Hence, it is suggested that these outliers are most likely a mistake in data entry.\n",
    "\n",
    "Considering that we have sufficient data for anaylsis(sample size:506), it is safe to remove the 5 extreme outliers. As for the remaining outliers, they will be kept unchanged since these outliers are closer to the acceptable range of values and may possibly be valuable for our exploratory analysis. \n",
    "\n"
   ]
  },
  {
   "cell_type": "code",
   "execution_count": 13,
   "metadata": {},
   "outputs": [],
   "source": [
    "df = df.drop([32,33,34,35,36])"
   ]
  },
  {
   "cell_type": "markdown",
   "metadata": {},
   "source": [
    "**Boxplot after dropping outliers**"
   ]
  },
  {
   "cell_type": "code",
   "execution_count": 14,
   "metadata": {},
   "outputs": [
    {
     "data": {
      "image/png": "[encoded data removed]",
      "text/plain": [
       "<Figure size 1728x1152 with 8 Axes>"
      ]
     },
     "metadata": {
      "needs_background": "light"
     },
     "output_type": "display_data"
    }
   ],
   "source": [
    "df_numerics = df[[\"Rooms\"]]\n",
    "df_numerics.plot(kind='box',  subplots=True, layout=(2, 4), figsize=(24, 16))\n",
    "plt.show()"
   ]
  },
  {
   "cell_type": "markdown",
   "metadata": {},
   "source": [
    "## Outliers in 'Distance_Office'"
   ]
  },
  {
   "cell_type": "code",
   "execution_count": 15,
   "metadata": {},
   "outputs": [
    {
     "data": {
      "image/png": "[encoded data removed]",
      "text/plain": [
       "<Figure size 1728x1152 with 8 Axes>"
      ]
     },
     "metadata": {
      "needs_background": "light"
     },
     "output_type": "display_data"
    }
   ],
   "source": [
    "df_numerics = df[[\"Distance_Office\"]]\n",
    "df_numerics.plot(kind='box',  subplots=True, layout=(2, 4), figsize=(24, 16))\n",
    "plt.show()"
   ]
  },
  {
   "cell_type": "code",
   "execution_count": 16,
   "metadata": {},
   "outputs": [
    {
     "name": "stdout",
     "output_type": "stream",
     "text": [
      "Since the lower limit is not possible to be negative, we will set it to be a value of 0\n",
      "\n",
      "Acceptable range of values for Distance_Office: (0, 9.9042)\n",
      "\n",
      "Outlier Values:\n"
     ]
    },
    {
     "data": {
      "text/plain": [
       "351    10.7103\n",
       "352    10.7103\n",
       "353    12.1265\n",
       "354    10.5857\n",
       "355    10.5857\n",
       "Name: Distance_Office, dtype: float64"
      ]
     },
     "execution_count": 16,
     "metadata": {},
     "output_type": "execute_result"
    }
   ],
   "source": [
    "Q1_Distance_Office = df.Distance_Office.quantile(0.25)\n",
    "Q3_Distance_Office = df.Distance_Office.quantile(0.75)\n",
    "\n",
    "IQR_Distance_Office = Q3_Distance_Office - Q1_Distance_Office\n",
    "\n",
    "lower_limit_Distance_Office = Q1_Distance_Office - 1.5*IQR_Distance_Office\n",
    "upper_limit_Distance_Office = Q3_Distance_Office + 1.5*IQR_Distance_Office\n",
    "\n",
    "print(\"Since the lower limit is not possible to be negative, we will set it to be a value of 0\\n\")\n",
    "lower_limit_Distance_Office = 0\n",
    "\n",
    "print(f\"Acceptable range of values for Distance_Office: {lower_limit_Distance_Office, upper_limit_Distance_Office}\\n\")\n",
    "\n",
    "print(\"Outlier Values:\")\n",
    "\n",
    "df_Distance_Office_outliers = df.Distance_Office[(df.Distance_Office > upper_limit_Distance_Office) | (df.Distance_Office < lower_limit_Distance_Office)]\n",
    "df_Distance_Office_outliers"
   ]
  },
  {
   "cell_type": "markdown",
   "metadata": {},
   "source": [
    "Similarly, the outliers in distance_office only differ from the upper limit slightly. Hence, these outliers are **not signficant enough** to affect the analysis between it and other dependent variables. In addition, the outlier values may provide invaluable insight for the exploratory analysis, hence we will be keeping the values of the outliers. "
   ]
  },
  {
   "cell_type": "markdown",
   "metadata": {},
   "source": [
    "## Outliers in 'Student_Teacher_Ratio'"
   ]
  },
  {
   "cell_type": "code",
   "execution_count": 17,
   "metadata": {},
   "outputs": [
    {
     "data": {
      "image/png": "[encoded data removed]",
      "text/plain": [
       "<Figure size 1728x1152 with 8 Axes>"
      ]
     },
     "metadata": {
      "needs_background": "light"
     },
     "output_type": "display_data"
    }
   ],
   "source": [
    "df_numerics = df[[\"Student_Teacher_Ratio\"]]\n",
    "df_numerics.plot(kind='box',  subplots=True, layout=(2, 4), figsize=(24, 16))\n",
    "plt.show()"
   ]
  },
  {
   "cell_type": "code",
   "execution_count": 18,
   "metadata": {},
   "outputs": [
    {
     "name": "stdout",
     "output_type": "stream",
     "text": [
      "Acceptable range of values for Student_Teacher_Ratio: (12.950000000000003, 24.549999999999997)\n",
      "\n",
      "Outlier Values:\n"
     ]
    },
    {
     "data": {
      "text/plain": [
       "92     182.0\n",
       "93     182.0\n",
       "94     182.0\n",
       "196     12.6\n",
       "197     12.6\n",
       "198     12.6\n",
       "Name: Student_Teacher_Ratio, dtype: float64"
      ]
     },
     "execution_count": 18,
     "metadata": {},
     "output_type": "execute_result"
    }
   ],
   "source": [
    "Q1_Student_Teacher_Ratio = df.Student_Teacher_Ratio.quantile(0.25)\n",
    "Q3_Student_Teacher_Ratio = df.Student_Teacher_Ratio.quantile(0.75)\n",
    "\n",
    "IQR_Student_Teacher_Ratio = Q3_Student_Teacher_Ratio - Q1_Student_Teacher_Ratio\n",
    "\n",
    "lower_limit_Student_Teacher_Ratio = Q1_Student_Teacher_Ratio - 1.5*IQR_Student_Teacher_Ratio\n",
    "upper_limit_Student_Teacher_Ratio = Q3_Student_Teacher_Ratio + 1.5*IQR_Student_Teacher_Ratio\n",
    "\n",
    "print(f\"Acceptable range of values for Student_Teacher_Ratio: {lower_limit_Student_Teacher_Ratio, upper_limit_Student_Teacher_Ratio}\\n\")\n",
    "\n",
    "print(\"Outlier Values:\")\n",
    "\n",
    "df_Student_Teacher_Ratio_outliers = df.Student_Teacher_Ratio[(df.Student_Teacher_Ratio > upper_limit_Student_Teacher_Ratio) | (df.Student_Teacher_Ratio < lower_limit_Student_Teacher_Ratio)]\n",
    "df_Student_Teacher_Ratio_outliers\n"
   ]
  },
  {
   "cell_type": "markdown",
   "metadata": {},
   "source": [
    "In the data for Student_teacher_Ratio, there are **3 extreme outliers of value: 182.0, 182.0 and 182.0.**\n",
    "\n",
    "However, we find that it could be possible for there to be a student to teacher ratio of 182 in the event of a lecture style education. \n",
    "\n",
    "While these extreme outliers are an invaluable points of data that can give more insights on our data pattern and analysis, we have still decided to remove these outliers for the purpose of this project. Since these outliers can potentially skew data results and cause our statistical model to be less robust, we will remove these outliers for a smoother analysis.\n",
    "\n",
    "For the other outliers of value 12.6, they are kept in the database since it only differs from the lower limit by 0.35. Hence, these outliers are **not signficant enough** to affect the analysis between it and other dependent variables. In addition, the outlier values may provide invaluable insight for the exploratory analysis, hence we will be keeping the values of the outliers. "
   ]
  },
  {
   "cell_type": "code",
   "execution_count": 19,
   "metadata": {},
   "outputs": [],
   "source": [
    "df = df.drop([92,93,94])"
   ]
  },
  {
   "cell_type": "markdown",
   "metadata": {},
   "source": [
    "**Boxplot after dropping outliers**"
   ]
  },
  {
   "cell_type": "code",
   "execution_count": 20,
   "metadata": {},
   "outputs": [
    {
     "data": {
      "image/png": "[encoded data removed]",
      "text/plain": [
       "<Figure size 1728x1152 with 8 Axes>"
      ]
     },
     "metadata": {
      "needs_background": "light"
     },
     "output_type": "display_data"
    }
   ],
   "source": [
    "df_numerics = df[[\"Student_Teacher_Ratio\"]]\n",
    "df_numerics.plot(kind='box',  subplots=True, layout=(2, 4), figsize=(24, 16))\n",
    "plt.show()"
   ]
  },
  {
   "cell_type": "markdown",
   "metadata": {},
   "source": [
    "# Outliers in 'Low_Income'"
   ]
  },
  {
   "cell_type": "code",
   "execution_count": 21,
   "metadata": {},
   "outputs": [
    {
     "data": {
      "image/png": "[encoded data removed]",
      "text/plain": [
       "<Figure size 1728x1152 with 8 Axes>"
      ]
     },
     "metadata": {
      "needs_background": "light"
     },
     "output_type": "display_data"
    }
   ],
   "source": [
    "df_numerics = df[[\"Low_Income\"]]\n",
    "df_numerics.plot(kind='box',  subplots=True, layout=(2, 4), figsize=(24, 16))\n",
    "plt.show()"
   ]
  },
  {
   "cell_type": "code",
   "execution_count": 22,
   "metadata": {},
   "outputs": [
    {
     "name": "stdout",
     "output_type": "stream",
     "text": [
      "Acceptable range of values for Low_Income: (-8.286250000000004, 32.34375000000001)\n",
      "\n",
      "Outlier Values:\n"
     ]
    },
    {
     "data": {
      "text/plain": [
       "87     100.00\n",
       "139    100.00\n",
       "141     34.41\n",
       "187    100.00\n",
       "266    100.00\n",
       "317    100.00\n",
       "373     34.77\n",
       "374     37.97\n",
       "412     34.37\n",
       "414     36.98\n",
       "438     34.02\n",
       "Name: Low_Income, dtype: float64"
      ]
     },
     "execution_count": 22,
     "metadata": {},
     "output_type": "execute_result"
    }
   ],
   "source": [
    "Q1_Low_Income = df.Low_Income.quantile(0.25)\n",
    "Q3_Low_Income = df.Low_Income.quantile(0.75)\n",
    "\n",
    "IQR_Low_Income = Q3_Low_Income - Q1_Low_Income\n",
    "\n",
    "lower_limit_Low_Income = Q1_Low_Income - 1.5*IQR_Low_Income\n",
    "upper_limit_Low_Income = Q3_Low_Income + 1.5*IQR_Low_Income\n",
    "\n",
    "print(f\"Acceptable range of values for Low_Income: {lower_limit_Low_Income, upper_limit_Low_Income}\\n\")\n",
    "\n",
    "print(\"Outlier Values:\")\n",
    "\n",
    "df_Low_Income_outliers = df.Low_Income[(df.Low_Income > upper_limit_Low_Income) | (df.Low_Income < lower_limit_Low_Income)]\n",
    "df_Low_Income_outliers"
   ]
  },
  {
   "cell_type": "markdown",
   "metadata": {},
   "source": [
    "In the data for Low_Income, there are **5 extreme outliers of value:100.0, 100.0, 100.0, 100.0 and 100.0.**\n",
    "\n",
    "We find that it could be possible for low income household to have a percentage of 100 such as rural areas with lack of economic thrive. Similar to the Student_Teacher_ratio, while these extreme outliers are an invaluable points of data that can give more insights on our data pattern and analysis, we have still decided to remove these outliers for the purpose of this project. Since these outliers can potentially skew data results and cause our statistical model to be less robust, we will remove these outliers for a smoother analysis.\n",
    "\n",
    "For the other outliers, they are kept in the database since it only differs from the upper or lower limit slightly. Hence, these outliers are **not signficant enough** to affect the analysis between it and other dependent variables. In addition, the outlier values may provide invaluable insight for the exploratory analysis, hence we will be keeping the values of the outliers. "
   ]
  },
  {
   "cell_type": "code",
   "execution_count": 23,
   "metadata": {},
   "outputs": [],
   "source": [
    "df = df.drop([87,139,187,266,317])"
   ]
  },
  {
   "cell_type": "markdown",
   "metadata": {},
   "source": [
    "**Boxplot after dropping outliers**"
   ]
  },
  {
   "cell_type": "code",
   "execution_count": 24,
   "metadata": {},
   "outputs": [
    {
     "data": {
      "image/png": "[encoded data removed]",
      "text/plain": [
       "<Figure size 1728x1152 with 8 Axes>"
      ]
     },
     "metadata": {
      "needs_background": "light"
     },
     "output_type": "display_data"
    }
   ],
   "source": [
    "df_numerics = df[[\"Low_Income\"]]\n",
    "df_numerics.plot(kind='box',  subplots=True, layout=(2, 4), figsize=(24, 16))\n",
    "plt.show()"
   ]
  },
  {
   "cell_type": "markdown",
   "metadata": {},
   "source": [
    "# Outliers in 'Price'"
   ]
  },
  {
   "cell_type": "code",
   "execution_count": 25,
   "metadata": {},
   "outputs": [
    {
     "data": {
      "image/png": "[encoded data removed]",
      "text/plain": [
       "<Figure size 1728x1152 with 8 Axes>"
      ]
     },
     "metadata": {
      "needs_background": "light"
     },
     "output_type": "display_data"
    }
   ],
   "source": [
    "df_numerics = df[[\"Price\"]]\n",
    "df_numerics.plot(kind='box',  subplots=True, layout=(2, 4), figsize=(24, 16))\n",
    "plt.show()"
   ]
  },
  {
   "cell_type": "code",
   "execution_count": 26,
   "metadata": {},
   "outputs": [
    {
     "name": "stdout",
     "output_type": "stream",
     "text": [
      "Acceptable range of values for Price: (5.0, 37.0)\n",
      "\n",
      "Outlier Values:\n"
     ]
    },
    {
     "data": {
      "text/plain": [
       "97     38.7\n",
       "98     43.8\n",
       "157    41.3\n",
       "161    50.0\n",
       "162    50.0\n",
       "163    50.0\n",
       "166    50.0\n",
       "179    37.2\n",
       "180    39.8\n",
       "182    37.9\n",
       "186    50.0\n",
       "195    50.0\n",
       "202    42.3\n",
       "203    48.5\n",
       "204    50.0\n",
       "224    44.8\n",
       "225    50.0\n",
       "226    37.6\n",
       "228    46.7\n",
       "232    41.7\n",
       "233    48.3\n",
       "253    42.8\n",
       "256    44.0\n",
       "257    50.0\n",
       "261    43.1\n",
       "262    48.8\n",
       "267    50.0\n",
       "268    43.5\n",
       "280    45.4\n",
       "282    46.0\n",
       "283    50.0\n",
       "291    37.3\n",
       "368    50.0\n",
       "369    50.0\n",
       "370    50.0\n",
       "371    50.0\n",
       "372    50.0\n",
       "Name: Price, dtype: float64"
      ]
     },
     "execution_count": 26,
     "metadata": {},
     "output_type": "execute_result"
    }
   ],
   "source": [
    "Q1_Price = df.Price.quantile(0.25)\n",
    "Q3_Price = df.Price.quantile(0.75)\n",
    "\n",
    "IQR_Price = Q3_Price - Q1_Price\n",
    "\n",
    "lower_limit_Price = Q1_Price - 1.5*IQR_Price\n",
    "upper_limit_Price = Q3_Price + 1.5*IQR_Price\n",
    "\n",
    "print(f\"Acceptable range of values for Price: {lower_limit_Price, upper_limit_Price}\\n\")\n",
    "\n",
    "print(\"Outlier Values:\")\n",
    "\n",
    "df_Price_outliers = df.Price[(df.Price > upper_limit_Price) | (df.Price < lower_limit_Price)]\n",
    "df_Price_outliers"
   ]
  },
  {
   "cell_type": "markdown",
   "metadata": {},
   "source": [
    "**Response.** "
   ]
  },
  {
   "cell_type": "markdown",
   "metadata": {},
   "source": [
    "In the data for Price, there are **no extreme outliers.**\n",
    "\n",
    "These outliers only differs from the upper or lower limit moderately. Since, these outliers are **not signficant enough** to affect the analysis between it and other dependent variables. In addition, the outlier values may provide invaluable insight for the exploratory analysis, hence we will be keeping the values of the outliers.\n",
    "\n",
    "Furthermore, we have researched that pricing of a house is affected by a multitude of reasons, contributed by all the other 12 attributes in the dataset. Hence, these outliers are an outcome of these factors and should not be removed as it will affect our analysis.\n",
    " "
   ]
  },
  {
   "cell_type": "markdown",
   "metadata": {},
   "source": [
    "**c.** For categorical variables, perform the necessary encoding."
   ]
  },
  {
   "cell_type": "markdown",
   "metadata": {},
   "source": [
    "**Response.** "
   ]
  },
  {
   "cell_type": "code",
   "execution_count": 27,
   "metadata": {},
   "outputs": [],
   "source": [
    "X = {'Low' : 1, 'Moderate' : 2, 'High' : 3} \n",
    "df[\"Crime_Rate_Enc\"] = df.Crime_Rate.map(X)\n",
    "\n",
    "X = {'Very Low' : 1, 'Low' : 2, 'Moderate' : 3, 'High' : 4, 'Very High' : 5} \n",
    "df[\"Residential_Area_Enc\"] = df.Residential_Area.map(X)\n",
    "\n",
    "encoding = {\"Near\":0, \"Far\":1}\n",
    "df[\"River_Encoded\"] = df[\"River\"].map(encoding)\n",
    "\n",
    "X = {'Low' : 1, 'Moderate' : 2, 'High' : 3} \n",
    "df[\"Highway_Access_Enc\"] = df.Highway_Access.map(X)"
   ]
  },
  {
   "cell_type": "code",
   "execution_count": 28,
   "metadata": {},
   "outputs": [
    {
     "data": {
      "text/html": [
       "<div>\n",
       "<style scoped>\n",
       "    .dataframe tbody tr th:only-of-type {\n",
       "        vertical-align: middle;\n",
       "    }\n",
       "\n",
       "    .dataframe tbody tr th {\n",
       "        vertical-align: top;\n",
       "    }\n",
       "\n",
       "    .dataframe thead th {\n",
       "        text-align: right;\n",
       "    }\n",
       "</style>\n",
       "<table border=\"1\" class=\"dataframe\">\n",
       "  <thead>\n",
       "    <tr style=\"text-align: right;\">\n",
       "      <th></th>\n",
       "      <th>Crime_Rate</th>\n",
       "      <th>Residential_Area</th>\n",
       "      <th>Non_Retail</th>\n",
       "      <th>River</th>\n",
       "      <th>Pollutants</th>\n",
       "      <th>Rooms</th>\n",
       "      <th>Old_Housing</th>\n",
       "      <th>Distance_Office</th>\n",
       "      <th>Highway_Access</th>\n",
       "      <th>Tax_Rate</th>\n",
       "      <th>Student_Teacher_Ratio</th>\n",
       "      <th>Low_Income</th>\n",
       "      <th>Price</th>\n",
       "      <th>Crime_Rate_Enc</th>\n",
       "      <th>Residential_Area_Enc</th>\n",
       "      <th>River_Encoded</th>\n",
       "      <th>Highway_Access_Enc</th>\n",
       "    </tr>\n",
       "  </thead>\n",
       "  <tbody>\n",
       "    <tr>\n",
       "      <th>76</th>\n",
       "      <td>Low</td>\n",
       "      <td>Very Low</td>\n",
       "      <td>12.83</td>\n",
       "      <td>Far</td>\n",
       "      <td>0.437</td>\n",
       "      <td>6.279</td>\n",
       "      <td>74.5</td>\n",
       "      <td>4.0522</td>\n",
       "      <td>Moderate</td>\n",
       "      <td>398</td>\n",
       "      <td>18.7</td>\n",
       "      <td>11.97</td>\n",
       "      <td>20.0</td>\n",
       "      <td>1</td>\n",
       "      <td>1</td>\n",
       "      <td>1</td>\n",
       "      <td>2</td>\n",
       "    </tr>\n",
       "    <tr>\n",
       "      <th>258</th>\n",
       "      <td>Low</td>\n",
       "      <td>Low</td>\n",
       "      <td>3.97</td>\n",
       "      <td>Far</td>\n",
       "      <td>0.647</td>\n",
       "      <td>7.333</td>\n",
       "      <td>100.0</td>\n",
       "      <td>1.8946</td>\n",
       "      <td>Moderate</td>\n",
       "      <td>264</td>\n",
       "      <td>13.0</td>\n",
       "      <td>7.79</td>\n",
       "      <td>36.0</td>\n",
       "      <td>1</td>\n",
       "      <td>2</td>\n",
       "      <td>1</td>\n",
       "      <td>2</td>\n",
       "    </tr>\n",
       "    <tr>\n",
       "      <th>220</th>\n",
       "      <td>Low</td>\n",
       "      <td>Very Low</td>\n",
       "      <td>6.20</td>\n",
       "      <td>Near</td>\n",
       "      <td>0.507</td>\n",
       "      <td>6.951</td>\n",
       "      <td>88.5</td>\n",
       "      <td>2.8617</td>\n",
       "      <td>Moderate</td>\n",
       "      <td>307</td>\n",
       "      <td>17.4</td>\n",
       "      <td>9.71</td>\n",
       "      <td>26.7</td>\n",
       "      <td>1</td>\n",
       "      <td>1</td>\n",
       "      <td>0</td>\n",
       "      <td>2</td>\n",
       "    </tr>\n",
       "    <tr>\n",
       "      <th>480</th>\n",
       "      <td>Moderate</td>\n",
       "      <td>Very Low</td>\n",
       "      <td>18.10</td>\n",
       "      <td>Far</td>\n",
       "      <td>0.532</td>\n",
       "      <td>6.242</td>\n",
       "      <td>102.0</td>\n",
       "      <td>3.4242</td>\n",
       "      <td>High</td>\n",
       "      <td>666</td>\n",
       "      <td>20.2</td>\n",
       "      <td>10.74</td>\n",
       "      <td>23.0</td>\n",
       "      <td>2</td>\n",
       "      <td>1</td>\n",
       "      <td>1</td>\n",
       "      <td>3</td>\n",
       "    </tr>\n",
       "    <tr>\n",
       "      <th>9</th>\n",
       "      <td>Low</td>\n",
       "      <td>Very Low</td>\n",
       "      <td>7.87</td>\n",
       "      <td>Far</td>\n",
       "      <td>0.524</td>\n",
       "      <td>6.004</td>\n",
       "      <td>85.9</td>\n",
       "      <td>6.5921</td>\n",
       "      <td>Moderate</td>\n",
       "      <td>311</td>\n",
       "      <td>15.2</td>\n",
       "      <td>17.10</td>\n",
       "      <td>18.9</td>\n",
       "      <td>1</td>\n",
       "      <td>1</td>\n",
       "      <td>1</td>\n",
       "      <td>2</td>\n",
       "    </tr>\n",
       "    <tr>\n",
       "      <th>205</th>\n",
       "      <td>Low</td>\n",
       "      <td>Very Low</td>\n",
       "      <td>10.59</td>\n",
       "      <td>Far</td>\n",
       "      <td>0.489</td>\n",
       "      <td>5.891</td>\n",
       "      <td>22.3</td>\n",
       "      <td>3.9454</td>\n",
       "      <td>Moderate</td>\n",
       "      <td>277</td>\n",
       "      <td>18.6</td>\n",
       "      <td>10.87</td>\n",
       "      <td>22.6</td>\n",
       "      <td>1</td>\n",
       "      <td>1</td>\n",
       "      <td>1</td>\n",
       "      <td>2</td>\n",
       "    </tr>\n",
       "    <tr>\n",
       "      <th>127</th>\n",
       "      <td>Low</td>\n",
       "      <td>Very Low</td>\n",
       "      <td>21.89</td>\n",
       "      <td>Far</td>\n",
       "      <td>0.624</td>\n",
       "      <td>5.693</td>\n",
       "      <td>96.0</td>\n",
       "      <td>1.7883</td>\n",
       "      <td>Moderate</td>\n",
       "      <td>437</td>\n",
       "      <td>21.2</td>\n",
       "      <td>17.19</td>\n",
       "      <td>16.2</td>\n",
       "      <td>1</td>\n",
       "      <td>1</td>\n",
       "      <td>1</td>\n",
       "      <td>2</td>\n",
       "    </tr>\n",
       "    <tr>\n",
       "      <th>17</th>\n",
       "      <td>Low</td>\n",
       "      <td>Very Low</td>\n",
       "      <td>8.14</td>\n",
       "      <td>Far</td>\n",
       "      <td>0.538</td>\n",
       "      <td>5.990</td>\n",
       "      <td>81.7</td>\n",
       "      <td>4.2579</td>\n",
       "      <td>Moderate</td>\n",
       "      <td>307</td>\n",
       "      <td>21.0</td>\n",
       "      <td>14.67</td>\n",
       "      <td>17.5</td>\n",
       "      <td>1</td>\n",
       "      <td>1</td>\n",
       "      <td>1</td>\n",
       "      <td>2</td>\n",
       "    </tr>\n",
       "    <tr>\n",
       "      <th>152</th>\n",
       "      <td>Low</td>\n",
       "      <td>Very Low</td>\n",
       "      <td>19.58</td>\n",
       "      <td>Near</td>\n",
       "      <td>0.871</td>\n",
       "      <td>5.012</td>\n",
       "      <td>88.0</td>\n",
       "      <td>1.6102</td>\n",
       "      <td>Moderate</td>\n",
       "      <td>403</td>\n",
       "      <td>14.7</td>\n",
       "      <td>12.12</td>\n",
       "      <td>15.3</td>\n",
       "      <td>1</td>\n",
       "      <td>1</td>\n",
       "      <td>0</td>\n",
       "      <td>2</td>\n",
       "    </tr>\n",
       "    <tr>\n",
       "      <th>404</th>\n",
       "      <td>High</td>\n",
       "      <td>Very Low</td>\n",
       "      <td>18.10</td>\n",
       "      <td>Far</td>\n",
       "      <td>0.693</td>\n",
       "      <td>5.531</td>\n",
       "      <td>85.4</td>\n",
       "      <td>1.6074</td>\n",
       "      <td>High</td>\n",
       "      <td>666</td>\n",
       "      <td>20.2</td>\n",
       "      <td>27.38</td>\n",
       "      <td>8.5</td>\n",
       "      <td>3</td>\n",
       "      <td>1</td>\n",
       "      <td>1</td>\n",
       "      <td>3</td>\n",
       "    </tr>\n",
       "  </tbody>\n",
       "</table>\n",
       "</div>"
      ],
      "text/plain": [
       "    Crime_Rate Residential_Area  Non_Retail River  Pollutants  Rooms  \\\n",
       "76         Low         Very Low       12.83   Far       0.437  6.279   \n",
       "258        Low              Low        3.97   Far       0.647  7.333   \n",
       "220        Low         Very Low        6.20  Near       0.507  6.951   \n",
       "480   Moderate         Very Low       18.10   Far       0.532  6.242   \n",
       "9          Low         Very Low        7.87   Far       0.524  6.004   \n",
       "205        Low         Very Low       10.59   Far       0.489  5.891   \n",
       "127        Low         Very Low       21.89   Far       0.624  5.693   \n",
       "17         Low         Very Low        8.14   Far       0.538  5.990   \n",
       "152        Low         Very Low       19.58  Near       0.871  5.012   \n",
       "404       High         Very Low       18.10   Far       0.693  5.531   \n",
       "\n",
       "     Old_Housing  Distance_Office Highway_Access  Tax_Rate  \\\n",
       "76          74.5           4.0522       Moderate       398   \n",
       "258        100.0           1.8946       Moderate       264   \n",
       "220         88.5           2.8617       Moderate       307   \n",
       "480        102.0           3.4242           High       666   \n",
       "9           85.9           6.5921       Moderate       311   \n",
       "205         22.3           3.9454       Moderate       277   \n",
       "127         96.0           1.7883       Moderate       437   \n",
       "17          81.7           4.2579       Moderate       307   \n",
       "152         88.0           1.6102       Moderate       403   \n",
       "404         85.4           1.6074           High       666   \n",
       "\n",
       "     Student_Teacher_Ratio  Low_Income  Price  Crime_Rate_Enc  \\\n",
       "76                    18.7       11.97   20.0               1   \n",
       "258                   13.0        7.79   36.0               1   \n",
       "220                   17.4        9.71   26.7               1   \n",
       "480                   20.2       10.74   23.0               2   \n",
       "9                     15.2       17.10   18.9               1   \n",
       "205                   18.6       10.87   22.6               1   \n",
       "127                   21.2       17.19   16.2               1   \n",
       "17                    21.0       14.67   17.5               1   \n",
       "152                   14.7       12.12   15.3               1   \n",
       "404                   20.2       27.38    8.5               3   \n",
       "\n",
       "     Residential_Area_Enc  River_Encoded  Highway_Access_Enc  \n",
       "76                      1              1                   2  \n",
       "258                     2              1                   2  \n",
       "220                     1              0                   2  \n",
       "480                     1              1                   3  \n",
       "9                       1              1                   2  \n",
       "205                     1              1                   2  \n",
       "127                     1              1                   2  \n",
       "17                      1              1                   2  \n",
       "152                     1              0                   2  \n",
       "404                     1              1                   3  "
      ]
     },
     "execution_count": 28,
     "metadata": {},
     "output_type": "execute_result"
    }
   ],
   "source": [
    "df.sample(10)"
   ]
  },
  {
   "cell_type": "markdown",
   "metadata": {},
   "source": [
    "### 3.\tExploratory analysis and visualization [50% of Part I]"
   ]
  },
  {
   "cell_type": "markdown",
   "metadata": {},
   "source": [
    "**a.** For each variable, provide relevant summary statistics"
   ]
  },
  {
   "cell_type": "markdown",
   "metadata": {},
   "source": [
    "**Response.** "
   ]
  },
  {
   "cell_type": "markdown",
   "metadata": {},
   "source": [
    "# Summary Statistics of all numerical data"
   ]
  },
  {
   "cell_type": "code",
   "execution_count": 29,
   "metadata": {
    "scrolled": false
   },
   "outputs": [
    {
     "data": {
      "text/html": [
       "<div>\n",
       "<style scoped>\n",
       "    .dataframe tbody tr th:only-of-type {\n",
       "        vertical-align: middle;\n",
       "    }\n",
       "\n",
       "    .dataframe tbody tr th {\n",
       "        vertical-align: top;\n",
       "    }\n",
       "\n",
       "    .dataframe thead th {\n",
       "        text-align: right;\n",
       "    }\n",
       "</style>\n",
       "<table border=\"1\" class=\"dataframe\">\n",
       "  <thead>\n",
       "    <tr style=\"text-align: right;\">\n",
       "      <th></th>\n",
       "      <th>Non_Retail</th>\n",
       "      <th>Pollutants</th>\n",
       "      <th>Rooms</th>\n",
       "      <th>Old_Housing</th>\n",
       "      <th>Distance_Office</th>\n",
       "      <th>Tax_Rate</th>\n",
       "      <th>Student_Teacher_Ratio</th>\n",
       "      <th>Low_Income</th>\n",
       "      <th>Price</th>\n",
       "    </tr>\n",
       "  </thead>\n",
       "  <tbody>\n",
       "    <tr>\n",
       "      <th>count</th>\n",
       "      <td>493.000000</td>\n",
       "      <td>493.000000</td>\n",
       "      <td>493.000000</td>\n",
       "      <td>493.000000</td>\n",
       "      <td>493.000000</td>\n",
       "      <td>493.000000</td>\n",
       "      <td>493.000000</td>\n",
       "      <td>493.000000</td>\n",
       "      <td>493.000000</td>\n",
       "    </tr>\n",
       "    <tr>\n",
       "      <th>mean</th>\n",
       "      <td>11.176592</td>\n",
       "      <td>0.555722</td>\n",
       "      <td>6.287529</td>\n",
       "      <td>69.076065</td>\n",
       "      <td>3.804666</td>\n",
       "      <td>411.012170</td>\n",
       "      <td>18.450710</td>\n",
       "      <td>12.628174</td>\n",
       "      <td>22.579919</td>\n",
       "    </tr>\n",
       "    <tr>\n",
       "      <th>std</th>\n",
       "      <td>6.891814</td>\n",
       "      <td>0.116785</td>\n",
       "      <td>0.709092</td>\n",
       "      <td>28.512406</td>\n",
       "      <td>2.129602</td>\n",
       "      <td>169.651292</td>\n",
       "      <td>2.161325</td>\n",
       "      <td>7.164577</td>\n",
       "      <td>9.265906</td>\n",
       "    </tr>\n",
       "    <tr>\n",
       "      <th>min</th>\n",
       "      <td>0.460000</td>\n",
       "      <td>0.385000</td>\n",
       "      <td>3.561000</td>\n",
       "      <td>2.900000</td>\n",
       "      <td>1.129600</td>\n",
       "      <td>187.000000</td>\n",
       "      <td>12.600000</td>\n",
       "      <td>1.730000</td>\n",
       "      <td>5.000000</td>\n",
       "    </tr>\n",
       "    <tr>\n",
       "      <th>25%</th>\n",
       "      <td>5.190000</td>\n",
       "      <td>0.448000</td>\n",
       "      <td>5.885000</td>\n",
       "      <td>45.000000</td>\n",
       "      <td>2.086900</td>\n",
       "      <td>281.000000</td>\n",
       "      <td>17.300000</td>\n",
       "      <td>6.920000</td>\n",
       "      <td>17.000000</td>\n",
       "    </tr>\n",
       "    <tr>\n",
       "      <th>50%</th>\n",
       "      <td>9.690000</td>\n",
       "      <td>0.538000</td>\n",
       "      <td>6.209000</td>\n",
       "      <td>78.700000</td>\n",
       "      <td>3.112100</td>\n",
       "      <td>334.000000</td>\n",
       "      <td>19.100000</td>\n",
       "      <td>11.340000</td>\n",
       "      <td>21.200000</td>\n",
       "    </tr>\n",
       "    <tr>\n",
       "      <th>75%</th>\n",
       "      <td>18.100000</td>\n",
       "      <td>0.624000</td>\n",
       "      <td>6.629000</td>\n",
       "      <td>94.600000</td>\n",
       "      <td>5.231100</td>\n",
       "      <td>666.000000</td>\n",
       "      <td>20.200000</td>\n",
       "      <td>16.940000</td>\n",
       "      <td>25.000000</td>\n",
       "    </tr>\n",
       "    <tr>\n",
       "      <th>max</th>\n",
       "      <td>27.740000</td>\n",
       "      <td>0.871000</td>\n",
       "      <td>8.780000</td>\n",
       "      <td>102.000000</td>\n",
       "      <td>12.126500</td>\n",
       "      <td>711.000000</td>\n",
       "      <td>22.000000</td>\n",
       "      <td>37.970000</td>\n",
       "      <td>50.000000</td>\n",
       "    </tr>\n",
       "  </tbody>\n",
       "</table>\n",
       "</div>"
      ],
      "text/plain": [
       "       Non_Retail  Pollutants       Rooms  Old_Housing  Distance_Office  \\\n",
       "count  493.000000  493.000000  493.000000   493.000000       493.000000   \n",
       "mean    11.176592    0.555722    6.287529    69.076065         3.804666   \n",
       "std      6.891814    0.116785    0.709092    28.512406         2.129602   \n",
       "min      0.460000    0.385000    3.561000     2.900000         1.129600   \n",
       "25%      5.190000    0.448000    5.885000    45.000000         2.086900   \n",
       "50%      9.690000    0.538000    6.209000    78.700000         3.112100   \n",
       "75%     18.100000    0.624000    6.629000    94.600000         5.231100   \n",
       "max     27.740000    0.871000    8.780000   102.000000        12.126500   \n",
       "\n",
       "         Tax_Rate  Student_Teacher_Ratio  Low_Income       Price  \n",
       "count  493.000000             493.000000  493.000000  493.000000  \n",
       "mean   411.012170              18.450710   12.628174   22.579919  \n",
       "std    169.651292               2.161325    7.164577    9.265906  \n",
       "min    187.000000              12.600000    1.730000    5.000000  \n",
       "25%    281.000000              17.300000    6.920000   17.000000  \n",
       "50%    334.000000              19.100000   11.340000   21.200000  \n",
       "75%    666.000000              20.200000   16.940000   25.000000  \n",
       "max    711.000000              22.000000   37.970000   50.000000  "
      ]
     },
     "execution_count": 29,
     "metadata": {},
     "output_type": "execute_result"
    }
   ],
   "source": [
    "df[[\"Non_Retail\", \"Pollutants\", \"Rooms\", \"Old_Housing\", \"Distance_Office\", \"Tax_Rate\", \"Student_Teacher_Ratio\", \"Low_Income\", \"Price\"]].describe()\n"
   ]
  },
  {
   "cell_type": "markdown",
   "metadata": {},
   "source": [
    "# Summary Statistics of Categorical Data"
   ]
  },
  {
   "cell_type": "markdown",
   "metadata": {},
   "source": [
    "### Crime Rate"
   ]
  },
  {
   "cell_type": "code",
   "execution_count": 30,
   "metadata": {},
   "outputs": [
    {
     "name": "stdout",
     "output_type": "stream",
     "text": [
      "Mode of crime rate is \u001b[1mLow\u001b[0m\n",
      "Crime rate total count for each category (Low, Moderate or High)\n"
     ]
    },
    {
     "data": {
      "text/plain": [
       "Low         372\n",
       "Moderate    103\n",
       "High         18\n",
       "Name: Crime_Rate, dtype: int64"
      ]
     },
     "execution_count": 30,
     "metadata": {},
     "output_type": "execute_result"
    }
   ],
   "source": [
    "print(\"Mode of crime rate is \\033[1m%s\\033[0m\" % stats.mode(df['Crime_Rate']))\n",
    "print(f\"Crime rate total count for each category (Low, Moderate or High)\")\n",
    "\n",
    "df['Crime_Rate'].value_counts()"
   ]
  },
  {
   "cell_type": "code",
   "execution_count": 31,
   "metadata": {},
   "outputs": [
    {
     "name": "stdout",
     "output_type": "stream",
     "text": [
      "Percentage of crime rate attributed to each category\n"
     ]
    },
    {
     "data": {
      "text/plain": [
       "Low         0.754564\n",
       "Moderate    0.208925\n",
       "High        0.036511\n",
       "Name: Crime_Rate, dtype: float64"
      ]
     },
     "execution_count": 31,
     "metadata": {},
     "output_type": "execute_result"
    }
   ],
   "source": [
    "print(\"Percentage of crime rate attributed to each category\")\n",
    "df['Crime_Rate'].value_counts()/df['Crime_Rate'].value_counts().sum()"
   ]
  },
  {
   "cell_type": "markdown",
   "metadata": {},
   "source": [
    "### Residential Area"
   ]
  },
  {
   "cell_type": "code",
   "execution_count": 32,
   "metadata": {},
   "outputs": [
    {
     "name": "stdout",
     "output_type": "stream",
     "text": [
      "Mode of Residential_Area is \u001b[1mVery Low\u001b[0m\n",
      "Residential area total count for each category (Very High, High, Moderate, Low or Very Low)\n"
     ]
    },
    {
     "data": {
      "text/plain": [
       "Very Low     376\n",
       "Low           60\n",
       "Very High     29\n",
       "Moderate      18\n",
       "High          10\n",
       "Name: Residential_Area, dtype: int64"
      ]
     },
     "execution_count": 32,
     "metadata": {},
     "output_type": "execute_result"
    }
   ],
   "source": [
    "print(\"Mode of Residential_Area is \\033[1m%s\\033[0m\" % stats.mode(df['Residential_Area']))\n",
    "print(f\"Residential area total count for each category (Very High, High, Moderate, Low or Very Low)\")\n",
    "\n",
    "df['Residential_Area'].value_counts()"
   ]
  },
  {
   "cell_type": "code",
   "execution_count": 33,
   "metadata": {},
   "outputs": [
    {
     "name": "stdout",
     "output_type": "stream",
     "text": [
      "Percentage of residential area attributed to each category\n"
     ]
    },
    {
     "data": {
      "text/plain": [
       "Very Low     0.762677\n",
       "Low          0.121704\n",
       "Very High    0.058824\n",
       "Moderate     0.036511\n",
       "High         0.020284\n",
       "Name: Residential_Area, dtype: float64"
      ]
     },
     "execution_count": 33,
     "metadata": {},
     "output_type": "execute_result"
    }
   ],
   "source": [
    "print(\"Percentage of residential area attributed to each category\")\n",
    "df['Residential_Area'].value_counts()/df['Residential_Area'].value_counts().sum()"
   ]
  },
  {
   "cell_type": "markdown",
   "metadata": {},
   "source": [
    "### River"
   ]
  },
  {
   "cell_type": "code",
   "execution_count": 34,
   "metadata": {},
   "outputs": [
    {
     "name": "stdout",
     "output_type": "stream",
     "text": [
      "Mode of River is \u001b[1mFar\u001b[0m\n",
      "River total count for each category (Near or Far)\n"
     ]
    },
    {
     "data": {
      "text/plain": [
       "Far     459\n",
       "Near     34\n",
       "Name: River, dtype: int64"
      ]
     },
     "execution_count": 34,
     "metadata": {},
     "output_type": "execute_result"
    }
   ],
   "source": [
    "print(\"Mode of River is \\033[1m%s\\033[0m\" % stats.mode(df['River']))\n",
    "print(f\"River total count for each category (Near or Far)\")\n",
    "\n",
    "df['River'].value_counts()"
   ]
  },
  {
   "cell_type": "code",
   "execution_count": 35,
   "metadata": {},
   "outputs": [
    {
     "name": "stdout",
     "output_type": "stream",
     "text": [
      "Percentage of river attributed to each category\n"
     ]
    },
    {
     "data": {
      "text/plain": [
       "Far     0.931034\n",
       "Near    0.068966\n",
       "Name: River, dtype: float64"
      ]
     },
     "execution_count": 35,
     "metadata": {},
     "output_type": "execute_result"
    }
   ],
   "source": [
    "print(\"Percentage of river attributed to each category\")\n",
    "df['River'].value_counts()/df['River'].value_counts().sum()"
   ]
  },
  {
   "cell_type": "markdown",
   "metadata": {},
   "source": [
    "### Highway Access"
   ]
  },
  {
   "cell_type": "code",
   "execution_count": 36,
   "metadata": {},
   "outputs": [
    {
     "name": "stdout",
     "output_type": "stream",
     "text": [
      "Mode of highway access is \u001b[1mModerate\u001b[0m\n",
      "Highway access total count for each category (High, Moderate or Low)\n"
     ]
    },
    {
     "data": {
      "text/plain": [
       "Moderate    282\n",
       "High        130\n",
       "Low          81\n",
       "Name: Highway_Access, dtype: int64"
      ]
     },
     "execution_count": 36,
     "metadata": {},
     "output_type": "execute_result"
    }
   ],
   "source": [
    "print(\"Mode of highway access is \\033[1m%s\\033[0m\" % stats.mode(df['Highway_Access']))\n",
    "print(f\"Highway access total count for each category (High, Moderate or Low)\")\n",
    "\n",
    "df['Highway_Access'].value_counts()"
   ]
  },
  {
   "cell_type": "code",
   "execution_count": 37,
   "metadata": {},
   "outputs": [
    {
     "name": "stdout",
     "output_type": "stream",
     "text": [
      "Percentage of highway access attributed to each category\n"
     ]
    },
    {
     "data": {
      "text/plain": [
       "Moderate    0.572008\n",
       "High        0.263692\n",
       "Low         0.164300\n",
       "Name: Highway_Access, dtype: float64"
      ]
     },
     "execution_count": 37,
     "metadata": {},
     "output_type": "execute_result"
    }
   ],
   "source": [
    "print(\"Percentage of highway access attributed to each category\")\n",
    "df['Highway_Access'].value_counts()/df['Highway_Access'].value_counts().sum()"
   ]
  },
  {
   "cell_type": "markdown",
   "metadata": {},
   "source": [
    "**b.** For each variable, provide an appropriate visualisation depicting the distribution of its values, and summarize any key observation(s) you made."
   ]
  },
  {
   "cell_type": "markdown",
   "metadata": {},
   "source": [
    "**Response.** \n",
    "\n",
    "\n"
   ]
  },
  {
   "cell_type": "markdown",
   "metadata": {},
   "source": [
    "# Data visualisation for numerical data"
   ]
  },
  {
   "cell_type": "code",
   "execution_count": 38,
   "metadata": {
    "scrolled": true
   },
   "outputs": [
    {
     "data": {
      "image/png": "[encoded data removed]",
      "text/plain": [
       "<Figure size 1440x1152 with 16 Axes>"
      ]
     },
     "metadata": {
      "needs_background": "light"
     },
     "output_type": "display_data"
    }
   ],
   "source": [
    "df_numerics = df[[\"Non_Retail\",\"Pollutants\",\"Rooms\",\"Old_Housing\",\"Distance_Office\",\"Tax_Rate\",\"Student_Teacher_Ratio\",\"Low_Income\", \"Price\"]]\n",
    "df_numerics.hist(layout=(4, 4), figsize=(20, 16))\n",
    "plt.show()"
   ]
  },
  {
   "cell_type": "markdown",
   "metadata": {},
   "source": [
    "### Key Observations for Numerical Data"
   ]
  },
  {
   "cell_type": "markdown",
   "metadata": {},
   "source": [
    "Looking at the histogram chart for \"Rooms\" we can observe that most housing have 6-7 rooms.\n",
    "\n",
    "Looking at the histogram chart for \"Distance_office\" we can observe that most housing are within the distance of 1-3km to major office areas.\n",
    "\n",
    "Looking at the histogram chart for \"Price\" we can observe that most housing are priced around $20,000.\n",
    "\n",
    "Looking at the histogram chart for \"Low_Income\", we can observe that the percentage of low income for each town is generally less than 20% which shows that the citizens from the region are quite affluent.\n",
    "\n"
   ]
  },
  {
   "cell_type": "markdown",
   "metadata": {},
   "source": [
    "# Data visualisation for Categorical data"
   ]
  },
  {
   "cell_type": "code",
   "execution_count": 39,
   "metadata": {},
   "outputs": [
    {
     "data": {
      "image/png": "[encoded data removed]",
      "text/plain": [
       "<Figure size 576x360 with 1 Axes>"
      ]
     },
     "metadata": {
      "needs_background": "light"
     },
     "output_type": "display_data"
    }
   ],
   "source": [
    "df[\"Crime_Rate\"] = df[\"Crime_Rate\"].astype(str)     \n",
    "data = df[\"Crime_Rate\"].value_counts(normalize=True)\n",
    "\n",
    "xs = data.index\n",
    "ys = data\n",
    "\n",
    "plt.figure(figsize=(8,5))\n",
    "plt.title(\"Crime Rate\",fontsize=20)\n",
    "plt.xlabel(\"Degree\",fontsize=15)\n",
    "plt.ylabel(\"Percentage\", fontsize=15)\n",
    "plt.bar(xs, ys)\n",
    "plt.show()"
   ]
  },
  {
   "cell_type": "code",
   "execution_count": 40,
   "metadata": {},
   "outputs": [
    {
     "data": {
      "image/png": "[encoded data removed]",
      "text/plain": [
       "<Figure size 576x360 with 1 Axes>"
      ]
     },
     "metadata": {
      "needs_background": "light"
     },
     "output_type": "display_data"
    }
   ],
   "source": [
    "df[\"Residential_Area\"] = df[\"Residential_Area\"].astype(str)     \n",
    "data = df[\"Residential_Area\"].value_counts(normalize=True)\n",
    "\n",
    "xs = data.index\n",
    "ys = data\n",
    "\n",
    "plt.figure(figsize=(8,5))\n",
    "plt.title(\"Residential Area\", fontsize=20)\n",
    "plt.xlabel(\"Degree\",fontsize=15)\n",
    "plt.ylabel(\"Percentage\", fontsize=15)\n",
    "plt.bar(xs, ys)\n",
    "plt.show()"
   ]
  },
  {
   "cell_type": "code",
   "execution_count": 41,
   "metadata": {},
   "outputs": [
    {
     "data": {
      "image/png": "[encoded data removed]",
      "text/plain": [
       "<Figure size 576x360 with 1 Axes>"
      ]
     },
     "metadata": {
      "needs_background": "light"
     },
     "output_type": "display_data"
    }
   ],
   "source": [
    "df[\"River\"] = df[\"River\"].astype(str)     ## convert the variable to a string so that it is treated categorical\n",
    "data = df[\"River\"].value_counts(normalize=True)\n",
    "\n",
    "xs = data.index\n",
    "ys = data\n",
    "\n",
    "plt.figure(figsize=(8,5))\n",
    "plt.title(\"River\", fontsize=20)\n",
    "plt.xlabel(\"Degree\", fontsize=15)\n",
    "plt.ylabel(\"Percentage\", fontsize=15)\n",
    "plt.bar(xs, ys)\n",
    "plt.show()"
   ]
  },
  {
   "cell_type": "code",
   "execution_count": 42,
   "metadata": {},
   "outputs": [
    {
     "data": {
      "image/png": "[encoded data removed]",
      "text/plain": [
       "<Figure size 576x360 with 1 Axes>"
      ]
     },
     "metadata": {
      "needs_background": "light"
     },
     "output_type": "display_data"
    }
   ],
   "source": [
    "df[\"Highway_Access\"] = df[\"Highway_Access\"].astype(str)     \n",
    "data = df[\"Highway_Access\"].value_counts(normalize=True)\n",
    "\n",
    "xs = data.index\n",
    "ys = data\n",
    "\n",
    "plt.figure(figsize=(8,5))\n",
    "plt.title(\"Highway Access\", fontsize=20)\n",
    "plt.xlabel(\"Degree\", fontsize=15)\n",
    "plt.ylabel(\"Percentage\", fontsize=15)\n",
    "plt.bar(xs, ys)\n",
    "plt.show()"
   ]
  },
  {
   "cell_type": "markdown",
   "metadata": {},
   "source": [
    "### Key Observations for Categorical Data\n"
   ]
  },
  {
   "cell_type": "markdown",
   "metadata": {},
   "source": [
    "\n",
    "\n",
    "Generally, there is a very low proportion of residential area in the region and experiences low crime rate. Additionally, most of the housing are far from the river and have moderate highway acccessibility. With that being said, we can conclude that the region is urbanised and modern."
   ]
  },
  {
   "cell_type": "markdown",
   "metadata": {},
   "source": [
    "**c.** Perform bi-variate analysis on the variables. You do not need to present the analysis of every pair of variables; only focus on the pairs you believe are worth investigating and explain. For each pair, describe the relationship between the two variables. Use appropriate statistical methods and/or visualizations."
   ]
  },
  {
   "cell_type": "markdown",
   "metadata": {},
   "source": [
    "**Response.** \n",
    "\n",
    "The following are the variable pairs that we have decided to investigate:\n",
    "\n",
    "1.Rooms and price\n",
    "\n",
    "2.Crime Rate and low income\n",
    "\n",
    "3.Low Income and price\n",
    "\n",
    "4.Low income and rooms\n",
    "\n",
    "5.Pollutants and old_housing\n",
    "\n",
    "6.Non-retail and distance office\n",
    "\n",
    "7.Residental Area and Highway Access\n",
    "\n",
    "**1. Rooms and Price**\n",
    "\n",
    "We have decided to investigate rooms and price as we have researched that price should be directly proportional to the number of rooms. This is supported by the fact that more rooms per house would increase production cost such as higher raw material cost and higher cost of land. Hence, we have chosen these 2 variables to investigate and validate our hypothesis.\n",
    "\n",
    "**2. Crime Rate and low income**\n",
    "\n",
    "We also observed that for some towns with higher percentage of low-income households, there seem to be a trend that crime rates are increasing. Hence, we have decided to perform an analysis to prove this further.\n",
    "\n",
    "**3. Low Income and Price**\n",
    "\n",
    "We chose these two variables because we wanted to investigate whether our hypothesis that lower income households would lead to lower price of houses as the lower income households will have a lower gross income. Thus they are more likely to spend less on servicing their housing loan. Hence, we have decided to investigate further to prove this.\n",
    "\n",
    "**4. Low Income and Rooms**\n",
    "\n",
    "We choose this two variables because we wanted to investigate whether our hypothesis that lower income households would lead to less rooms of occupants houses as the lower income households will have a lower gross income and thus are more likely to spend less on servicing their housing loan. Fewer rooms per house would decresae raw material cost and cost of land , therefore decreasing the price of the house. Thus, those of lower income will spend less on housing and therefore their houses will have less rooms. Hence, we have decided to investigate the relation between the percentage of low income households and pricing of homes.\n",
    "\n",
    "**5. Pollutants and Old Housing**\n",
    "\n",
    "We choose this two variables because we wanted to investigate whether our hypothesis that more older housing would lead to more pollutants as the those older housing would be more neglected by their residents and community as whole. Also, their appliances that the occupants use in these old housing are more out-dated and are less environmentally-friendly. We also felt that with more pollutants in the town, there will be less incentives to build new housings in the town. Thus, we have decided to analysis further on this issue to see if it is accurate.\n",
    "\n",
    "**6. Non Retail and Distance Office**\n",
    "\n",
    "As non retail refers to the percentage of business areas used for non-retail, less percentage of non retail might indicate a lower need for weighted distance to office areas to be closer as well. We choose this two variables because we wanted to investigate whether our hypothesis that higher non-retail buisnesses would lead to shorter distance from office. We pressumed that households working at non-retail would probably be office workers and thus would need accomodation near their office as compared to requiring an accomodation near shopping districts. Hence, we decided to investigate the relation between non retail and distance office to see analysis how these factors influence each other.\n",
    "\n",
    "**7. Residental Area and Highway Access**\n",
    "\n",
    "Lastly, we also wish to investigate how does the ease of highway access relates to the proportion of residental area. From our intuition, we believe that with greater highway accessibility, it will be more convenient for residents to commute and travel to their destinations, hence encouraging more residental areas to be built around these area. Thus, we will investigate these 2 factors to confirm our hypothesis."
   ]
  },
  {
   "cell_type": "markdown",
   "metadata": {},
   "source": [
    "# 1. Rooms and Price"
   ]
  },
  {
   "cell_type": "code",
   "execution_count": 43,
   "metadata": {},
   "outputs": [
    {
     "data": {
      "image/png": "[encoded data removed]",
      "text/plain": [
       "<Figure size 576x360 with 1 Axes>"
      ]
     },
     "metadata": {
      "needs_background": "light"
     },
     "output_type": "display_data"
    },
    {
     "name": "stdout",
     "output_type": "stream",
     "text": [
      " correlation coefficient ( 𝜌 ) between Rooms and Price is \n",
      " [[1.         0.69408567]\n",
      " [0.69408567 1.        ]]\n",
      "\n",
      "variance of Rooms and Price is \n",
      " Var(Room): 0.5028108106169297\n",
      " Var(Price): 85.8570146275501\n",
      "\n",
      "covariance between between Rooms and Price is \n",
      " [[ 0.50281081  4.56040354]\n",
      " [ 4.56040354 85.85701463]]\n",
      "\n"
     ]
    }
   ],
   "source": [
    "#from scipy import stats\n",
    "\n",
    "#Bivariate analysis between Rooms and Price\n",
    "xs = df.Rooms\n",
    "ys = df.Price\n",
    "\n",
    "plt.figure(figsize=(8,5))\n",
    "plt.scatter(xs, ys)\n",
    "plt.title(\"Rooms vs Price\", fontsize=15)\n",
    "plt.xlabel(\"Rooms\", fontsize=12)\n",
    "plt.ylabel(\"Price in $\", fontsize=12)\n",
    "plt.show()\n",
    "\n",
    "corr = np.corrcoef(xs, ys) \n",
    "corr\n",
    "print(f\" correlation coefficient ( 𝜌 ) between Rooms and Price is \\n {corr}\\n\")\n",
    "\n",
    "varx = xs.var() \n",
    "vary = ys.var() \n",
    "print(f\"variance of Rooms and Price is \\n Var(Room): {varx}\\n Var(Price): {vary}\\n\")\n",
    "\n",
    "cov = np.cov(xs, ys)\n",
    "print(f\"covariance between between Rooms and Price is \\n {cov}\\n\")\n",
    "\n",
    "#beta1, beta0, r, _, _, = stats.linregress(xs, ys)\n",
    "#print(\"beta1 :\", beta1)\n",
    "#print(\"beta0 :\", beta0)\n",
    "#print(\"r squared :\", r*r)  # r squared computation \n",
    "\n",
    "\n"
   ]
  },
  {
   "cell_type": "markdown",
   "metadata": {},
   "source": [
    "Value of correlation coefficient is 0.69408567. Since it is a positive covariance and a value almost reaching 0.7, we can conclude a moderately strong relationship between rooms and price of unit, and that the higher the number of rooms , the higher the price of the unit.\n",
    "\n",
    "Thus, room and price of unit has a moderately strong relationship that is directly proportional with each other.  "
   ]
  },
  {
   "cell_type": "markdown",
   "metadata": {},
   "source": [
    "# 2. Crime Rate and Low Income"
   ]
  },
  {
   "cell_type": "code",
   "execution_count": 44,
   "metadata": {},
   "outputs": [
    {
     "data": {
      "image/png": "[encoded data removed]",
      "text/plain": [
       "<Figure size 432x288 with 1 Axes>"
      ]
     },
     "metadata": {
      "needs_background": "light"
     },
     "output_type": "display_data"
    }
   ],
   "source": [
    "#Bivariate analysis between Crime Rate and Low Income\n",
    "\n",
    "df[['Low_Income','Crime_Rate']].boxplot(by='Crime_Rate')\n",
    "plt.show()"
   ]
  },
  {
   "cell_type": "markdown",
   "metadata": {},
   "source": [
    "The relationship that can be observed from the box plot above is that the housing with higher percentage of low income household will tend to see \"High\"\n",
    "crime rates."
   ]
  },
  {
   "cell_type": "markdown",
   "metadata": {},
   "source": [
    "# 3. Low Income and Price"
   ]
  },
  {
   "cell_type": "code",
   "execution_count": 45,
   "metadata": {},
   "outputs": [
    {
     "data": {
      "image/png": "[encoded data removed]",
      "text/plain": [
       "<Figure size 576x360 with 1 Axes>"
      ]
     },
     "metadata": {
      "needs_background": "light"
     },
     "output_type": "display_data"
    },
    {
     "name": "stdout",
     "output_type": "stream",
     "text": [
      " correlation coefficient ( 𝜌 ) between Low Income and Price is \n",
      " [[ 1.         -0.73871535]\n",
      " [-0.73871535  1.        ]]\n",
      "\n",
      "variance of Low Income and Price is \n",
      " Var(Low Income): 51.33116495324791\n",
      " Var(Price): 85.8570146275501\n",
      "\n",
      "covariance between between Low Income and Price is \n",
      " [[ 51.33116495 -49.04057738]\n",
      " [-49.04057738  85.85701463]]\n",
      "\n"
     ]
    }
   ],
   "source": [
    "#Bivariate analysis between Low Income and price\n",
    "xs = df.Low_Income\n",
    "ys = df.Price\n",
    "\n",
    "plt.figure(figsize=(8,5))\n",
    "plt.scatter(xs, ys)\n",
    "plt.title(\"Low_Income vs Price\", fontsize=15)\n",
    "plt.xlabel(\"Low_Income in percentage\", fontsize=12)\n",
    "plt.ylabel(\"Price in $\", fontsize=12)\n",
    "corr = np.corrcoef(xs, ys) \n",
    "plt.show()\n",
    "\n",
    "corr = np.corrcoef(xs, ys) \n",
    "corr\n",
    "print(f\" correlation coefficient ( 𝜌 ) between Low Income and Price is \\n {corr}\\n\")\n",
    "\n",
    "varx = xs.var() \n",
    "vary = ys.var() \n",
    "print(f\"variance of Low Income and Price is \\n Var(Low Income): {varx}\\n Var(Price): {vary}\\n\")\n",
    "\n",
    "cov = np.cov(xs, ys)\n",
    "cov\n",
    "print(f\"covariance between between Low Income and Price is \\n {cov}\\n\")"
   ]
  },
  {
   "cell_type": "markdown",
   "metadata": {},
   "source": [
    "The relationship between low income and price of housing is that the lower the percentage of low income earners , the higher the  prices in their units. As ( 𝜌 ) between Low Income and prices is a negative value of -0.73872 (5 s.f), we can conclude that the two variables are strong correlated.\n",
    "\n",
    "Thus, low income and price of housing has a strong relationship that is inversely proportional with each other.  "
   ]
  },
  {
   "cell_type": "markdown",
   "metadata": {},
   "source": [
    "# 4. Low Income and Rooms"
   ]
  },
  {
   "cell_type": "code",
   "execution_count": 46,
   "metadata": {},
   "outputs": [
    {
     "data": {
      "image/png": "[encoded data removed]",
      "text/plain": [
       "<Figure size 576x360 with 1 Axes>"
      ]
     },
     "metadata": {
      "needs_background": "light"
     },
     "output_type": "display_data"
    },
    {
     "name": "stdout",
     "output_type": "stream",
     "text": [
      " correlation coefficient ( 𝜌 ) between Low Income and Rooms is \n",
      " [[ 1.         -0.61759956]\n",
      " [-0.61759956  1.        ]]\n",
      "\n",
      "variance of Low Income and Rooms is \n",
      " Var(LowIncome): 51.33116495324791\n",
      " Var(Rooms): 0.5028108106169297\n",
      "\n",
      "covariance between between Low Income and Rooms is \n",
      " [[51.33116495 -3.13761635]\n",
      " [-3.13761635  0.50281081]]\n",
      "\n"
     ]
    }
   ],
   "source": [
    "#Bivariate analysis between Low Income and Rooms\n",
    "xs = df.Low_Income\n",
    "ys = df.Rooms\n",
    "\n",
    "plt.figure(figsize=(8,5))\n",
    "plt.scatter(xs, ys)\n",
    "plt.title(\"Low_Income vs Rooms\", fontsize=15)\n",
    "plt.xlabel(\"Low_Income in percentage\", fontsize=12)\n",
    "plt.ylabel(\"Rooms\", fontsize=12)\n",
    "corr = np.corrcoef(xs, ys) \n",
    "plt.show()\n",
    "\n",
    "corr = np.corrcoef(xs, ys) \n",
    "corr\n",
    "print(f\" correlation coefficient ( 𝜌 ) between Low Income and Rooms is \\n {corr}\\n\")\n",
    "\n",
    "varx = xs.var() \n",
    "vary = ys.var() \n",
    "print(f\"variance of Low Income and Rooms is \\n Var(LowIncome): {varx}\\n Var(Rooms): {vary}\\n\")\n",
    "\n",
    "cov = np.cov(xs, ys)\n",
    "cov\n",
    "print(f\"covariance between between Low Income and Rooms is \\n {cov}\\n\")"
   ]
  },
  {
   "cell_type": "markdown",
   "metadata": {},
   "source": [
    "The relationship between low income and rooms is that the higher the percentage of low income earners , the lower the number of rooms per unit. As ( 𝜌 ) between Low Income and Rooms is -0.61760 (5 s.f), we can conclude that the two variables has a moderately strong relation.\n",
    "\n",
    "Thus, low income and number of rooms per unit has a  relatively strong relationship that is inversely proportional with each other."
   ]
  },
  {
   "cell_type": "markdown",
   "metadata": {},
   "source": [
    "# 5. Pollutants and Old Housing"
   ]
  },
  {
   "cell_type": "code",
   "execution_count": 47,
   "metadata": {},
   "outputs": [
    {
     "data": {
      "image/png": "[encoded data removed]",
      "text/plain": [
       "<Figure size 576x360 with 1 Axes>"
      ]
     },
     "metadata": {
      "needs_background": "light"
     },
     "output_type": "display_data"
    },
    {
     "name": "stdout",
     "output_type": "stream",
     "text": [
      " correlation coefficient ( 𝜌 ) between Pollutants and Old Housing is \n",
      " [[1.         0.72421948]\n",
      " [0.72421948 1.        ]]\n",
      "\n",
      "variance of Pollutants and Old Housing is \n",
      " Var(Poullutants): 0.013638736691238287\n",
      " Var(Old Housing): 812.957271475455\n",
      "\n",
      "covariance between between Pollutants and Old Housing is \n",
      " [[1.36387367e-02 2.41152149e+00]\n",
      " [2.41152149e+00 8.12957271e+02]]\n",
      "\n"
     ]
    }
   ],
   "source": [
    "#Bivariate analysis between Pollutants and old housing\n",
    "xs = df.Pollutants\n",
    "ys = df.Old_Housing\n",
    "\n",
    "plt.figure(figsize=(8,5))\n",
    "plt.scatter(xs, ys)\n",
    "plt.title(\"Pollutants vs Old_Housing\", fontsize=15)\n",
    "plt.xlabel(\"Pollutants in ppm\", fontsize=12)\n",
    "plt.ylabel(\"Old_Housing\", fontsize=12)\n",
    "corr = np.corrcoef(xs, ys) \n",
    "plt.show()\n",
    "\n",
    "corr = np.corrcoef(xs, ys) \n",
    "corr\n",
    "print(f\" correlation coefficient ( 𝜌 ) between Pollutants and Old Housing is \\n {corr}\\n\")\n",
    "\n",
    "varx = xs.var() \n",
    "vary = ys.var() \n",
    "print(f\"variance of Pollutants and Old Housing is \\n Var(Poullutants): {varx}\\n Var(Old Housing): {vary}\\n\")\n",
    "\n",
    "cov = np.cov(xs, ys)\n",
    "cov\n",
    "print(f\"covariance between between Pollutants and Old Housing is \\n {cov}\\n\")"
   ]
  },
  {
   "cell_type": "markdown",
   "metadata": {},
   "source": [
    "The relationship between pollutants and number of old housing is that the higher the number of old housing , the more pollutants there in the atmosphere. As ( 𝜌 ) between Low Income and Rooms is 0.72422 (5 s.f), we can conclude that the two variables are strong correlated.\n",
    "\n",
    "Thus, pollutants and percentage of old housing has a strong relationship that is directly proportional with each other."
   ]
  },
  {
   "cell_type": "markdown",
   "metadata": {},
   "source": [
    "# 6. Non Retail and Distance Office"
   ]
  },
  {
   "cell_type": "code",
   "execution_count": 48,
   "metadata": {},
   "outputs": [
    {
     "data": {
      "image/png": "[encoded data removed]",
      "text/plain": [
       "<Figure size 576x360 with 1 Axes>"
      ]
     },
     "metadata": {
      "needs_background": "light"
     },
     "output_type": "display_data"
    },
    {
     "name": "stdout",
     "output_type": "stream",
     "text": [
      " correlation coefficient ( 𝜌 ) between Non Retail and Distance Office is \n",
      " [[ 1.        -0.7141315]\n",
      " [-0.7141315  1.       ]]\n",
      "\n",
      "variance of Non Retail and Distance Office is \n",
      " Var(NonRetail): 47.497098120021455\n",
      " Var(DistanceOffice): 4.535206403320713\n",
      "\n",
      "covariance between between Non Retail and Distance Office is \n",
      " [[ 47.49709812 -10.48118193]\n",
      " [-10.48118193   4.5352064 ]]\n",
      "\n"
     ]
    }
   ],
   "source": [
    "#Bivariate analysis between  Non retail and distance office\n",
    "xs = df.Non_Retail\n",
    "ys = df.Distance_Office\n",
    "\n",
    "plt.figure(figsize=(8,5))\n",
    "plt.scatter(xs, ys)\n",
    "plt.title(\"Non_Retail vs Distance_Office\", fontsize=15)\n",
    "plt.xlabel(\"Non_Retail\", fontsize=12)\n",
    "plt.ylabel(\"Distance_Office\", fontsize=12)\n",
    "corr = np.corrcoef(xs, ys) \n",
    "plt.show()\n",
    "\n",
    "corr = np.corrcoef(xs, ys) \n",
    "corr\n",
    "print(f\" correlation coefficient ( 𝜌 ) between Non Retail and Distance Office is \\n {corr}\\n\")\n",
    "\n",
    "varx = xs.var() \n",
    "vary = ys.var() \n",
    "print(f\"variance of Non Retail and Distance Office is \\n Var(NonRetail): {varx}\\n Var(DistanceOffice): {vary}\\n\")\n",
    "\n",
    "cov = np.cov(xs, ys)\n",
    "cov\n",
    "print(f\"covariance between between Non Retail and Distance Office is \\n {cov}\\n\")"
   ]
  },
  {
   "cell_type": "markdown",
   "metadata": {},
   "source": [
    "The relationship between non-retail and distance from office is that the higher the number of non-retail businesses , the shorter the distance the houses are from the office. As ( 𝜌 ) between Low Income and Rooms is -0.71413 (5 s.f), we can conclude that the two variables are strongly correlated.\n",
    "\n",
    "Thus, percentage of business area used for non retail and distance of office areas has a strong relationship that is inversely proportional with each other."
   ]
  },
  {
   "cell_type": "markdown",
   "metadata": {},
   "source": [
    "# 7. Residental area and Highway Access"
   ]
  },
  {
   "cell_type": "markdown",
   "metadata": {},
   "source": [
    "We wish to investigate whether residental area is dependent on highway access."
   ]
  },
  {
   "cell_type": "code",
   "execution_count": 49,
   "metadata": {},
   "outputs": [
    {
     "name": "stdout",
     "output_type": "stream",
     "text": [
      "P(High Residental Proportion) : 0.07910750507099391\n",
      "P(Low Residental Proportion) : 0.8843813387423936\n",
      "P(High Residental Proportion|High highwayaccess) : 0.0\n",
      "P(High Residental Proportion|Low highwayaccess) : 0.2345679012345679\n",
      "P(Low Residental Proportion|High highwayaccess) : 1.0\n",
      "P(Low Residental Proportion|Low highwayaccess) : 0.7283950617283951\n"
     ]
    },
    {
     "data": {
      "text/html": [
       "<div>\n",
       "<style scoped>\n",
       "    .dataframe tbody tr th:only-of-type {\n",
       "        vertical-align: middle;\n",
       "    }\n",
       "\n",
       "    .dataframe tbody tr th {\n",
       "        vertical-align: top;\n",
       "    }\n",
       "\n",
       "    .dataframe thead th {\n",
       "        text-align: right;\n",
       "    }\n",
       "</style>\n",
       "<table border=\"1\" class=\"dataframe\">\n",
       "  <thead>\n",
       "    <tr style=\"text-align: right;\">\n",
       "      <th>Highway_Access</th>\n",
       "      <th>High</th>\n",
       "      <th>Low</th>\n",
       "      <th>Moderate</th>\n",
       "    </tr>\n",
       "    <tr>\n",
       "      <th>Residential_Area</th>\n",
       "      <th></th>\n",
       "      <th></th>\n",
       "      <th></th>\n",
       "    </tr>\n",
       "  </thead>\n",
       "  <tbody>\n",
       "    <tr>\n",
       "      <th>High</th>\n",
       "      <td>0</td>\n",
       "      <td>5</td>\n",
       "      <td>5</td>\n",
       "    </tr>\n",
       "    <tr>\n",
       "      <th>Low</th>\n",
       "      <td>0</td>\n",
       "      <td>8</td>\n",
       "      <td>52</td>\n",
       "    </tr>\n",
       "    <tr>\n",
       "      <th>Moderate</th>\n",
       "      <td>0</td>\n",
       "      <td>3</td>\n",
       "      <td>15</td>\n",
       "    </tr>\n",
       "    <tr>\n",
       "      <th>Very High</th>\n",
       "      <td>0</td>\n",
       "      <td>14</td>\n",
       "      <td>15</td>\n",
       "    </tr>\n",
       "    <tr>\n",
       "      <th>Very Low</th>\n",
       "      <td>130</td>\n",
       "      <td>51</td>\n",
       "      <td>195</td>\n",
       "    </tr>\n",
       "  </tbody>\n",
       "</table>\n",
       "</div>"
      ],
      "text/plain": [
       "Highway_Access    High  Low  Moderate\n",
       "Residential_Area                     \n",
       "High                 0    5         5\n",
       "Low                  0    8        52\n",
       "Moderate             0    3        15\n",
       "Very High            0   14        15\n",
       "Very Low           130   51       195"
      ]
     },
     "execution_count": 49,
     "metadata": {},
     "output_type": "execute_result"
    }
   ],
   "source": [
    "table = pd.crosstab(df.Residential_Area, df.Highway_Access)\n",
    "\n",
    "\n",
    "residental_areas = table[\"High\"][\"High\"] + table[\"Low\"][\"High\"] + table[\"Moderate\"][\"High\"] + table[\"High\"][\"Low\"] + table[\"Low\"][\"Low\"] + table[\"Moderate\"][\"Low\"]+ table[\"High\"][\"Moderate\"] + table[\"Low\"][\"Moderate\"] + table[\"Moderate\"][\"Moderate\"]+ table[\"High\"][\"Very High\"] + table[\"Low\"][\"Very High\"] + table[\"Moderate\"][\"Very High\"]+ table[\"High\"][\"Very Low\"] + table[\"Low\"][\"Very Low\"] + table[\"Moderate\"][\"Very Low\"]\n",
    "\n",
    "# we will sum up high-very high together as high , and low-very low together as low\n",
    "\n",
    "high_residental_proportion = table[\"High\"][\"High\"] + table[\"Low\"][\"High\"] + table[\"Moderate\"][\"High\"] + table[\"High\"][\"Very High\"] + table[\"Low\"][\"Very High\"] + table[\"Moderate\"][\"Very High\"]\n",
    "\n",
    "#ignoring for moderate\n",
    "#moderate_residental_proportion = table[\"High\"][\"Moderate\"] + table[\"Low\"][\"Moderate\"] + table[\"Moderate\"][\"Moderate\"]\n",
    "\n",
    "low_residental_proportion = table[\"High\"][\"Low\"] + table[\"Low\"][\"Low\"] + table[\"Moderate\"][\"Low\"] + table[\"High\"][\"Very Low\"] + table[\"Low\"][\"Very Low\"] + table[\"Moderate\"][\"Very Low\"]\n",
    "\n",
    "high_highwayaccess = table[\"High\"][\"High\"] + table[\"High\"][\"Low\"] + table[\"High\"][\"Moderate\"] + table[\"High\"][\"Very High\"] + table[\"High\"][\"Very Low\"] \n",
    "\n",
    "low_highwayaccess = table[\"Low\"][\"High\"] + table[\"Low\"][\"Low\"] + table[\"Low\"][\"Moderate\"] + table[\"Low\"][\"Very High\"] + table[\"Low\"][\"Very Low\"]\n",
    "\n",
    "#ignoring for moderate\n",
    "#moderate_highwayaccess = table[\"Moderate\"][\"High\"] + table[\"Moderate\"][\"Low\"] + table[\"Moderate\"][\"Moderate\"] + table[\"Moderate\"][\"Very High\"] + table[\"Moderate\"][\"Very Low\"]\n",
    "\n",
    "prob_high_resident_proportion = high_residental_proportion/residental_areas\n",
    "\n",
    "#ignoring moderate\n",
    "#prob_moderate_resident_proportion = high_moderate_proportion/residental_areas\n",
    "\n",
    "prob_low_resident_proportion = low_residental_proportion/residental_areas\n",
    "\n",
    "prob_high_resident_proportion_given_high_highwayaccess = (table[\"High\"][\"High\"] + table[\"High\"][\"Very High\"])/high_highwayaccess\n",
    "prob_high_resident_proportion_given_low_highwayaccess = (table[\"Low\"][\"High\"] + table[\"Low\"][\"Very High\"])/low_highwayaccess\n",
    "\n",
    "prob_low_resident_proportion_given_high_highwayaccess = (table[\"High\"][\"Low\"] + table[\"High\"][\"Very Low\"])/high_highwayaccess\n",
    "prob_low_resident_proportion_given_low_highwayaccess = (table[\"Low\"][\"Low\"] + table[\"Low\"][\"Very Low\"])/low_highwayaccess\n",
    "\n",
    "print(f\"P(High Residental Proportion) : {prob_high_resident_proportion}\")\n",
    "print(f\"P(Low Residental Proportion) : {prob_low_resident_proportion}\")\n",
    "\n",
    "print(f\"P(High Residental Proportion|High highwayaccess) : {prob_high_resident_proportion_given_high_highwayaccess}\")\n",
    "print(f\"P(High Residental Proportion|Low highwayaccess) : {prob_high_resident_proportion_given_low_highwayaccess}\")\n",
    "\n",
    "print(f\"P(Low Residental Proportion|High highwayaccess) : {prob_low_resident_proportion_given_high_highwayaccess}\")\n",
    "print(f\"P(Low Residental Proportion|Low highwayaccess) : {prob_low_resident_proportion_given_low_highwayaccess}\")\n",
    "\n",
    "\n",
    "table"
   ]
  },
  {
   "cell_type": "markdown",
   "metadata": {},
   "source": [
    "Probability of high residental proportion given high/low highway access is quite different from the unconditional probability of high residental proportion. The same applies for the probability of low residental proportion.\n",
    "\n",
    "In addition, it seems that our hypothesis is wrong as having greater access to the highway seems to have lower residental proportion as shown in the results."
   ]
  },
  {
   "cell_type": "code",
   "execution_count": 50,
   "metadata": {},
   "outputs": [
    {
     "data": {
      "text/html": [
       "<div>\n",
       "<style scoped>\n",
       "    .dataframe tbody tr th:only-of-type {\n",
       "        vertical-align: middle;\n",
       "    }\n",
       "\n",
       "    .dataframe tbody tr th {\n",
       "        vertical-align: top;\n",
       "    }\n",
       "\n",
       "    .dataframe thead th {\n",
       "        text-align: right;\n",
       "    }\n",
       "</style>\n",
       "<table border=\"1\" class=\"dataframe\">\n",
       "  <thead>\n",
       "    <tr style=\"text-align: right;\">\n",
       "      <th>Highway_Access</th>\n",
       "      <th>High</th>\n",
       "      <th>Low</th>\n",
       "      <th>Moderate</th>\n",
       "    </tr>\n",
       "    <tr>\n",
       "      <th>Residential_Area</th>\n",
       "      <th></th>\n",
       "      <th></th>\n",
       "      <th></th>\n",
       "    </tr>\n",
       "  </thead>\n",
       "  <tbody>\n",
       "    <tr>\n",
       "      <th>High</th>\n",
       "      <td>0.000000</td>\n",
       "      <td>0.500000</td>\n",
       "      <td>0.500000</td>\n",
       "    </tr>\n",
       "    <tr>\n",
       "      <th>Low</th>\n",
       "      <td>0.000000</td>\n",
       "      <td>0.133333</td>\n",
       "      <td>0.866667</td>\n",
       "    </tr>\n",
       "    <tr>\n",
       "      <th>Moderate</th>\n",
       "      <td>0.000000</td>\n",
       "      <td>0.166667</td>\n",
       "      <td>0.833333</td>\n",
       "    </tr>\n",
       "    <tr>\n",
       "      <th>Very High</th>\n",
       "      <td>0.000000</td>\n",
       "      <td>0.482759</td>\n",
       "      <td>0.517241</td>\n",
       "    </tr>\n",
       "    <tr>\n",
       "      <th>Very Low</th>\n",
       "      <td>0.345745</td>\n",
       "      <td>0.135638</td>\n",
       "      <td>0.518617</td>\n",
       "    </tr>\n",
       "  </tbody>\n",
       "</table>\n",
       "</div>"
      ],
      "text/plain": [
       "Highway_Access        High       Low  Moderate\n",
       "Residential_Area                              \n",
       "High              0.000000  0.500000  0.500000\n",
       "Low               0.000000  0.133333  0.866667\n",
       "Moderate          0.000000  0.166667  0.833333\n",
       "Very High         0.000000  0.482759  0.517241\n",
       "Very Low          0.345745  0.135638  0.518617"
      ]
     },
     "execution_count": 50,
     "metadata": {},
     "output_type": "execute_result"
    }
   ],
   "source": [
    "norm_table = pd.crosstab(df.Residential_Area, df.Highway_Access, normalize=\"index\")\n",
    "norm_table"
   ]
  },
  {
   "cell_type": "markdown",
   "metadata": {},
   "source": [
    "Normalisation of our data to make it more consistent for comparison."
   ]
  },
  {
   "cell_type": "code",
   "execution_count": 51,
   "metadata": {},
   "outputs": [
    {
     "data": {
      "text/plain": [
       "<AxesSubplot:xlabel='Residential_Area'>"
      ]
     },
     "execution_count": 51,
     "metadata": {},
     "output_type": "execute_result"
    },
    {
     "data": {
      "image/png": "[encoded data removed]",
      "text/plain": [
       "<Figure size 432x288 with 1 Axes>"
      ]
     },
     "metadata": {
      "needs_background": "light"
     },
     "output_type": "display_data"
    }
   ],
   "source": [
    "norm_table.plot.bar(stacked=True)"
   ]
  },
  {
   "cell_type": "code",
   "execution_count": 52,
   "metadata": {},
   "outputs": [
    {
     "data": {
      "image/png": "[encoded data removed]",
      "text/plain": [
       "<Figure size 432x288 with 3 Axes>"
      ]
     },
     "metadata": {
      "needs_background": "light"
     },
     "output_type": "display_data"
    }
   ],
   "source": [
    "from statsmodels.graphics.mosaicplot import mosaic\n",
    "_ = mosaic(df, ['Residential_Area','Highway_Access'])"
   ]
  },
  {
   "cell_type": "markdown",
   "metadata": {},
   "source": [
    "## Part II: Modeling [12% of final grade]"
   ]
  },
  {
   "cell_type": "markdown",
   "metadata": {},
   "source": [
    "### 1. Problem formulation [15% of Part II]"
   ]
  },
  {
   "cell_type": "markdown",
   "metadata": {},
   "source": [
    "**a.** Formulate one regression problem and one classification based on the dataset, in **no more than 50 words**."
   ]
  },
  {
   "cell_type": "markdown",
   "metadata": {},
   "source": [
    "**Regression:** Our objective is to predict the percentage of Low Income households in a given area based on selected variables.\n",
    "\n",
    "**Classification:**  Our objective is to predict the crime rate based on selected variables.\n"
   ]
  },
  {
   "cell_type": "markdown",
   "metadata": {},
   "source": [
    "**b.** State which problem (regression or classification) you would be investigating and why, in **no more than 20 words**."
   ]
  },
  {
   "cell_type": "markdown",
   "metadata": {},
   "source": [
    "Regression. Low Income generally has higher correlation with other variables compared to crime rate in our EA, hence more accurate."
   ]
  },
  {
   "cell_type": "markdown",
   "metadata": {},
   "source": [
    "**c.** Clearly specify the dependent variable you are predicting, and its significance, in **no more than 20 words**"
   ]
  },
  {
   "cell_type": "markdown",
   "metadata": {},
   "source": [
    "The dependent variable is percentage of Low Income households which signifies the quality of lives and welfare of citizens in towns."
   ]
  },
  {
   "cell_type": "markdown",
   "metadata": {},
   "source": [
    "### 2. Model training [30% of Part II]"
   ]
  },
  {
   "cell_type": "markdown",
   "metadata": {},
   "source": [
    "**a.** Perform feature selection. For each variable, decide if you want to include it as a feature and provide a justification. You may leverage on your analysis in Part I: EDA and/or perform additional analysis."
   ]
  },
  {
   "cell_type": "code",
   "execution_count": 53,
   "metadata": {},
   "outputs": [],
   "source": [
    "datatypes = df.dtypes\n",
    "categorical_features = datatypes[datatypes==\"object\"].index\n",
    "numerical_features = datatypes[datatypes!=\"object\"].index"
   ]
  },
  {
   "cell_type": "markdown",
   "metadata": {},
   "source": [
    "## Categorical Variables"
   ]
  },
  {
   "cell_type": "code",
   "execution_count": 54,
   "metadata": {},
   "outputs": [
    {
     "data": {
      "image/png": "[encoded data removed]",
      "text/plain": [
       "<Figure size 1080x180 with 4 Axes>"
      ]
     },
     "metadata": {
      "needs_background": "light"
     },
     "output_type": "display_data"
    }
   ],
   "source": [
    "n = len(categorical_features)\n",
    "\n",
    "r, c = 1,4\n",
    "fig, ax = plt.subplots(r, c, figsize=(15,2.5))\n",
    "\n",
    "for i in range(n):\n",
    "    feature = categorical_features[i]\n",
    "    ax = plt.subplot(r,c,i+1)\n",
    "    ax.set_title(feature)\n",
    "    df[feature].value_counts(normalize=True).plot(kind='bar')\n",
    "\n",
    "plt.show()"
   ]
  },
  {
   "cell_type": "markdown",
   "metadata": {},
   "source": [
    "To perform feature selection, we have decided to only select features without a dominant value. A lack of variation of data in these variables means that there will be very less explanatory power on the variation in our dependent variable, percentage of low income.\n",
    "\n",
    "Hence, we will only select categorical features with datas having the least dominant value.\n",
    "\n",
    "The following below will be how we perform the feature selection.\n",
    "\n",
    "Since all the categorical variables have a mode more than 50%, this means that none of the categorical factors have a significant impact or meaning for our regression analysis.\n",
    "\n",
    "Our team decided to not be lenient with the requirement(mode more than 50%) and remove all the categorical factors since we have checked that we still have sufficient numericals features. \n",
    "\n",
    "Hence, we have decided to exclude all the categorical variables in our analysis for regression."
   ]
  },
  {
   "cell_type": "code",
   "execution_count": 55,
   "metadata": {},
   "outputs": [
    {
     "name": "stdout",
     "output_type": "stream",
     "text": [
      "Variables with mode contributing <50% are : []\n"
     ]
    }
   ],
   "source": [
    "# get 'important' categorical features i.e. those with mode having freq < 50%\n",
    "\n",
    "categorical_important = []\n",
    "\n",
    "for feature in categorical_features:\n",
    "    highest = df[feature].value_counts(normalize=True)[0]\n",
    "    if highest<0.50:\n",
    "        categorical_important.append(feature)\n",
    "\n",
    "print(f\"Variables with mode contributing <50% are : {categorical_important}\")\n"
   ]
  },
  {
   "cell_type": "code",
   "execution_count": 56,
   "metadata": {
    "scrolled": true
   },
   "outputs": [
    {
     "data": {
      "image/png": "[encoded data removed]",
      "text/plain": [
       "<Figure size 360x360 with 1 Axes>"
      ]
     },
     "metadata": {
      "needs_background": "light"
     },
     "output_type": "display_data"
    }
   ],
   "source": [
    "n = len(categorical_important)\n",
    "\n",
    "r, c = 1,1\n",
    "fig, ax = plt.subplots(r, c, figsize=(5,5))\n",
    "\n",
    "for i in range(n):\n",
    "    feature = categorical_important[::-1][i]\n",
    "    ax = plt.subplot(r,c,i+1)\n",
    "    df[[feature,'Price']].boxplot(by=feature, ax=ax, rot=90)"
   ]
  },
  {
   "cell_type": "markdown",
   "metadata": {},
   "source": [
    "As mentioned, we have discovered that all of the categorical variables less explanatory power on the variation in our dependent variable, hence we will proceed without any of them."
   ]
  },
  {
   "cell_type": "markdown",
   "metadata": {},
   "source": [
    "## Numerical Variables"
   ]
  },
  {
   "cell_type": "code",
   "execution_count": 57,
   "metadata": {
    "scrolled": true
   },
   "outputs": [
    {
     "data": {
      "image/png": "[encoded data removed]",
      "text/plain": [
       "<Figure size 1440x1152 with 16 Axes>"
      ]
     },
     "metadata": {
      "needs_background": "light"
     },
     "output_type": "display_data"
    }
   ],
   "source": [
    "df_numerics = df[[\"Non_Retail\",\"Pollutants\",\"Rooms\",\"Old_Housing\",\"Distance_Office\",\"Tax_Rate\",\"Student_Teacher_Ratio\",\"Low_Income\", \"Price\"]]\n",
    "df_numerics.hist(layout=(4, 4), figsize=(20, 16))\n",
    "plt.show()"
   ]
  },
  {
   "cell_type": "markdown",
   "metadata": {},
   "source": [
    "We have found the following variables to be more meaningful and relatable to a domain expert than the others, hence our preliminary variables are `Pollutants`, `Rooms`, `Old_Housing`, `Distance_Office` and `Low_Income`."
   ]
  },
  {
   "cell_type": "code",
   "execution_count": 58,
   "metadata": {
    "scrolled": false
   },
   "outputs": [
    {
     "data": {
      "text/html": [
       "<div>\n",
       "<style scoped>\n",
       "    .dataframe tbody tr th:only-of-type {\n",
       "        vertical-align: middle;\n",
       "    }\n",
       "\n",
       "    .dataframe tbody tr th {\n",
       "        vertical-align: top;\n",
       "    }\n",
       "\n",
       "    .dataframe thead th {\n",
       "        text-align: right;\n",
       "    }\n",
       "</style>\n",
       "<table border=\"1\" class=\"dataframe\">\n",
       "  <thead>\n",
       "    <tr style=\"text-align: right;\">\n",
       "      <th></th>\n",
       "      <th>Price</th>\n",
       "      <th>Non_Retail</th>\n",
       "      <th>Pollutants</th>\n",
       "      <th>Rooms</th>\n",
       "      <th>Old_Housing</th>\n",
       "      <th>Distance_Office</th>\n",
       "      <th>Tax_Rate</th>\n",
       "      <th>Low_Income</th>\n",
       "    </tr>\n",
       "  </thead>\n",
       "  <tbody>\n",
       "    <tr>\n",
       "      <th>Price</th>\n",
       "      <td>1.000000</td>\n",
       "      <td>-0.488755</td>\n",
       "      <td>-0.432208</td>\n",
       "      <td>0.694086</td>\n",
       "      <td>-0.365890</td>\n",
       "      <td>0.252058</td>\n",
       "      <td>-0.477415</td>\n",
       "      <td>-0.738715</td>\n",
       "    </tr>\n",
       "    <tr>\n",
       "      <th>Non_Retail</th>\n",
       "      <td>-0.488755</td>\n",
       "      <td>1.000000</td>\n",
       "      <td>0.770678</td>\n",
       "      <td>-0.396076</td>\n",
       "      <td>0.651445</td>\n",
       "      <td>-0.714132</td>\n",
       "      <td>0.725843</td>\n",
       "      <td>0.614801</td>\n",
       "    </tr>\n",
       "    <tr>\n",
       "      <th>Pollutants</th>\n",
       "      <td>-0.432208</td>\n",
       "      <td>0.770678</td>\n",
       "      <td>1.000000</td>\n",
       "      <td>-0.306967</td>\n",
       "      <td>0.724219</td>\n",
       "      <td>-0.772932</td>\n",
       "      <td>0.669054</td>\n",
       "      <td>0.593393</td>\n",
       "    </tr>\n",
       "    <tr>\n",
       "      <th>Rooms</th>\n",
       "      <td>0.694086</td>\n",
       "      <td>-0.396076</td>\n",
       "      <td>-0.306967</td>\n",
       "      <td>1.000000</td>\n",
       "      <td>-0.237646</td>\n",
       "      <td>0.207412</td>\n",
       "      <td>-0.298064</td>\n",
       "      <td>-0.617600</td>\n",
       "    </tr>\n",
       "    <tr>\n",
       "      <th>Old_Housing</th>\n",
       "      <td>-0.365890</td>\n",
       "      <td>0.651445</td>\n",
       "      <td>0.724219</td>\n",
       "      <td>-0.237646</td>\n",
       "      <td>1.000000</td>\n",
       "      <td>-0.745873</td>\n",
       "      <td>0.517270</td>\n",
       "      <td>0.591506</td>\n",
       "    </tr>\n",
       "    <tr>\n",
       "      <th>Distance_Office</th>\n",
       "      <td>0.252058</td>\n",
       "      <td>-0.714132</td>\n",
       "      <td>-0.772932</td>\n",
       "      <td>0.207412</td>\n",
       "      <td>-0.745873</td>\n",
       "      <td>1.000000</td>\n",
       "      <td>-0.540693</td>\n",
       "      <td>-0.501579</td>\n",
       "    </tr>\n",
       "    <tr>\n",
       "      <th>Tax_Rate</th>\n",
       "      <td>-0.477415</td>\n",
       "      <td>0.725843</td>\n",
       "      <td>0.669054</td>\n",
       "      <td>-0.298064</td>\n",
       "      <td>0.517270</td>\n",
       "      <td>-0.540693</td>\n",
       "      <td>1.000000</td>\n",
       "      <td>0.553406</td>\n",
       "    </tr>\n",
       "    <tr>\n",
       "      <th>Low_Income</th>\n",
       "      <td>-0.738715</td>\n",
       "      <td>0.614801</td>\n",
       "      <td>0.593393</td>\n",
       "      <td>-0.617600</td>\n",
       "      <td>0.591506</td>\n",
       "      <td>-0.501579</td>\n",
       "      <td>0.553406</td>\n",
       "      <td>1.000000</td>\n",
       "    </tr>\n",
       "  </tbody>\n",
       "</table>\n",
       "</div>"
      ],
      "text/plain": [
       "                    Price  Non_Retail  Pollutants     Rooms  Old_Housing  \\\n",
       "Price            1.000000   -0.488755   -0.432208  0.694086    -0.365890   \n",
       "Non_Retail      -0.488755    1.000000    0.770678 -0.396076     0.651445   \n",
       "Pollutants      -0.432208    0.770678    1.000000 -0.306967     0.724219   \n",
       "Rooms            0.694086   -0.396076   -0.306967  1.000000    -0.237646   \n",
       "Old_Housing     -0.365890    0.651445    0.724219 -0.237646     1.000000   \n",
       "Distance_Office  0.252058   -0.714132   -0.772932  0.207412    -0.745873   \n",
       "Tax_Rate        -0.477415    0.725843    0.669054 -0.298064     0.517270   \n",
       "Low_Income      -0.738715    0.614801    0.593393 -0.617600     0.591506   \n",
       "\n",
       "                 Distance_Office  Tax_Rate  Low_Income  \n",
       "Price                   0.252058 -0.477415   -0.738715  \n",
       "Non_Retail             -0.714132  0.725843    0.614801  \n",
       "Pollutants             -0.772932  0.669054    0.593393  \n",
       "Rooms                   0.207412 -0.298064   -0.617600  \n",
       "Old_Housing            -0.745873  0.517270    0.591506  \n",
       "Distance_Office         1.000000 -0.540693   -0.501579  \n",
       "Tax_Rate               -0.540693  1.000000    0.553406  \n",
       "Low_Income             -0.501579  0.553406    1.000000  "
      ]
     },
     "execution_count": 58,
     "metadata": {},
     "output_type": "execute_result"
    }
   ],
   "source": [
    "features_selected = [\"Price\",\"Non_Retail\",\"Pollutants\",\"Rooms\",\"Old_Housing\",\"Distance_Office\",\"Tax_Rate\",\"Low_Income\"]\n",
    "df[features_selected].corr()"
   ]
  },
  {
   "cell_type": "code",
   "execution_count": 59,
   "metadata": {
    "scrolled": false
   },
   "outputs": [
    {
     "data": {
      "image/png": "[encoded data removed]",
      "text/plain": [
       "<Figure size 432x288 with 2 Axes>"
      ]
     },
     "metadata": {
      "needs_background": "light"
     },
     "output_type": "display_data"
    }
   ],
   "source": [
    "import seaborn as sns\n",
    "r2 = df[features_selected].corr()**2\n",
    "sns.heatmap(r2)\n",
    "plt.show()"
   ]
  },
  {
   "cell_type": "markdown",
   "metadata": {},
   "source": [
    "From the previous step, we have calculated and displayed $r^2$ through a heatmap above for the independent variables with low income. From the heatmap above, we can identify that most of the variables have a high correlation with Low income with price having the highest corelation since the darker the box, the less the value of correlation.\n",
    "\n",
    "Hence, to confirm the strongly correlated variables for our regression analysis, we have decided to use a function as follows:"
   ]
  },
  {
   "cell_type": "code",
   "execution_count": 60,
   "metadata": {},
   "outputs": [
    {
     "name": "stdout",
     "output_type": "stream",
     "text": [
      "updated selected features: ['Price', 'Non_Retail', 'Pollutants', 'Rooms', 'Old_Housing', 'Distance_Office', 'Tax_Rate']\n"
     ]
    }
   ],
   "source": [
    "\n",
    "def corr_features(df, target, threshold):\n",
    "    corr_features = []\n",
    "    for feature in df.columns:\n",
    "        if feature==target: continue\n",
    "        x = df[feature]\n",
    "        y = df[target]\n",
    "        r2 = np.corrcoef(x,y)[0][1]\n",
    "        if abs(r2)>threshold:\n",
    "            corr_features.append(feature)\n",
    "    return corr_features\n",
    "\n",
    "features_selected = corr_features(df[features_selected],\"Low_Income\", 0.5) \n",
    "print(f\"updated selected features: {features_selected}\")"
   ]
  },
  {
   "cell_type": "markdown",
   "metadata": {},
   "source": [
    "**b.** Split the dataset into train and test sets. Describe how you split step by step."
   ]
  },
  {
   "cell_type": "markdown",
   "metadata": {},
   "source": [
    "Now that we have obtained variables that are strongly correlated with our dependent variable, Price, we now have to check whether these variables are strongly correlated with one another to prevent redunancy. Hence, the following: "
   ]
  },
  {
   "cell_type": "code",
   "execution_count": 61,
   "metadata": {
    "scrolled": false
   },
   "outputs": [
    {
     "data": {
      "image/png": "[encoded data removed]",
      "text/plain": [
       "<Figure size 432x288 with 2 Axes>"
      ]
     },
     "metadata": {
      "needs_background": "light"
     },
     "output_type": "display_data"
    }
   ],
   "source": [
    "r2 = df[features_selected].corr()**2\n",
    "sns.heatmap(r2)\n",
    "plt.show()"
   ]
  },
  {
   "cell_type": "code",
   "execution_count": 62,
   "metadata": {},
   "outputs": [],
   "source": [
    "# get the feature that has the most number of features\n",
    "# it is correlated with, beyond certain threshold\n",
    "\n",
    "def most_corr_feature(df, threshold):\n",
    "    r2_matrix = abs(df.corr())\n",
    "    count = r2_matrix[r2_matrix>threshold].count()\n",
    "    return count.sort_values(ascending=False).index[0]\n",
    "\n",
    "# return true if all the features are uncorrelated,\n",
    "# as defined by a threshold\n",
    "\n",
    "def all_features_uncorr(df, threshold):\n",
    "    r2_matrix = abs(df.corr())\n",
    "    n = len(r2_matrix)\n",
    "    return r2_matrix[r2_matrix>threshold].count().sum()==n\n",
    "\n",
    "# get a set of uncorrelated features\n",
    "\n",
    "def get_uncorr_features(df, threshold):\n",
    "    features = df.columns.tolist()\n",
    "    while all_features_uncorr(df[features], threshold) == False:\n",
    "        most_corr_fea = most_corr_feature(df[features], threshold)\n",
    "        features.remove(most_corr_fea)\n",
    "    return features"
   ]
  },
  {
   "cell_type": "code",
   "execution_count": 63,
   "metadata": {
    "scrolled": true
   },
   "outputs": [
    {
     "name": "stdout",
     "output_type": "stream",
     "text": [
      "Final selected features : ['Price', 'Rooms', 'Distance_Office', 'Tax_Rate']\n"
     ]
    }
   ],
   "source": [
    "features_selected = get_uncorr_features(df[features_selected], 0.7)\n",
    "print(f\"Final selected features : {features_selected}\")"
   ]
  },
  {
   "cell_type": "markdown",
   "metadata": {},
   "source": [
    "Our group has set a higher threshold of 0.7 than the generally guideline of 0.5. For this part, we have decided to be more lenient with the threshold to be inclusive of more features and we also felt that a coefficient of 0.7 is still acceptable to be tested in our model as it is a reasonable value from 0.5.\n",
    "\n",
    "Thus, for a more accurate model in our linear regression analysis, we have decided to increase our threshold to 0.7 to include more features."
   ]
  },
  {
   "cell_type": "code",
   "execution_count": 64,
   "metadata": {},
   "outputs": [
    {
     "data": {
      "image/png": "[encoded data removed]",
      "text/plain": [
       "<Figure size 432x288 with 2 Axes>"
      ]
     },
     "metadata": {
      "needs_background": "light"
     },
     "output_type": "display_data"
    }
   ],
   "source": [
    "df[features_selected+['Low_Income']].corr()\n",
    "r2 = abs(df[features_selected+['Low_Income']].corr())\n",
    "sns.heatmap(r2)\n",
    "\n",
    "plt.show()"
   ]
  },
  {
   "cell_type": "markdown",
   "metadata": {},
   "source": [
    "**c.** State the model(s) you will train, and explain your choice(s), in **no more than 50 words per model**. You only need to\n",
    "train one model, but if you do train more models, limit yourself to no more than three---Grading is based on the validity and soundness of your model, rather than the quantity."
   ]
  },
  {
   "cell_type": "markdown",
   "metadata": {},
   "source": [
    "Based on the selected features, we will only be taking `Price`, `Rooms`, `Distance_Office` and `Tax_Rate` from the numerical variables.\n",
    "\n",
    "We use the model_selection package to split our dataset randomly into 75/25 i.e. we keep 25% of the dataset for model evaluation purpose"
   ]
  },
  {
   "cell_type": "code",
   "execution_count": 65,
   "metadata": {},
   "outputs": [],
   "source": [
    "### train_test_split\n",
    "\n",
    "from sklearn.model_selection import train_test_split\n",
    "\n",
    "X = df[features_selected]\n",
    "y = df[[\"Low_Income\"]]\n",
    "\n",
    "X_train, X_test, y_train, y_test = train_test_split(X, y, test_size=0.25, random_state=42)"
   ]
  },
  {
   "cell_type": "markdown",
   "metadata": {},
   "source": [
    "Linear:\n",
    "\n",
    "Basic model that will be inclusive of all features that we have selected so that we can learn how each feature affects our dependent variable through its coefficient.\n",
    "\n",
    "Ridge:\n",
    "\n",
    "As compared to the linear model, it further regularise coefficient estimates by pushing the estimated coefficients toward 0. Hence, this avoids over-fitting for a more accurate model.  \n",
    "\n",
    "Lasso: \n",
    "\n",
    "Similar to the ridge model, it also regularise coefficients but the estimated coefficient can actually be 0. Hence, it remove less significant features by reducing its coefficient to 0 for regression. Thus could possibly be more accurate through removal of unimportant features.\n"
   ]
  },
  {
   "cell_type": "markdown",
   "metadata": {},
   "source": [
    "d. For each model, perform the training, and report the trained parameters and the training scores, if applicable."
   ]
  },
  {
   "cell_type": "code",
   "execution_count": 66,
   "metadata": {},
   "outputs": [
    {
     "name": "stdout",
     "output_type": "stream",
     "text": [
      "Model 1: Linear Regression \n",
      "--------------------------\n",
      "Features : ['Price', 'Rooms', 'Distance_Office', 'Tax_Rate']\n",
      "Coefficients: [-0.37683738 -1.60347905 -0.91081094  0.00476425]\n",
      "Intercept : 32.62549494589588\n",
      "Coeff of Determination : 0.6703177082695848\n"
     ]
    }
   ],
   "source": [
    "## model fitting for linear regression\n",
    "\n",
    "from sklearn.linear_model import LinearRegression\n",
    "\n",
    "model1 = LinearRegression().fit(X_train, y_train)\n",
    "model1_r2 = model1.score(X_train, y_train)\n",
    "coef1 = model1.coef_\n",
    "bias1 = model1.intercept_\n",
    "\n",
    "print(\"Model 1: Linear Regression \")\n",
    "print(\"--------------------------\")\n",
    "print(f\"Features : {X_train.columns.tolist()}\")\n",
    "print(f\"Coefficients: {coef1[0]}\")\n",
    "print(f\"Intercept : {bias1[0]}\")\n",
    "print(f\"Coeff of Determination : {model1_r2}\")"
   ]
  },
  {
   "cell_type": "code",
   "execution_count": 67,
   "metadata": {},
   "outputs": [
    {
     "name": "stdout",
     "output_type": "stream",
     "text": [
      "Model 2: Ridge Regression\n",
      "-------------------------\n",
      "Features : ['Price', 'Rooms', 'Distance_Office', 'Tax_Rate']\n",
      "Coefficients: [-0.37767582 -1.58728834 -0.91052733  0.00476884]\n",
      "Intercept : 32.54012067793809\n",
      "Coeff of Determination : 0.6703163270720363\n"
     ]
    }
   ],
   "source": [
    "## model fitting for ridge\n",
    "\n",
    "from sklearn.linear_model import Ridge\n",
    "\n",
    "model2 = Ridge().fit(X_train, y_train)\n",
    "model2_r2 = model2.score(X_train, y_train)\n",
    "coef2 = model2.coef_\n",
    "bias2 = model2.intercept_\n",
    "\n",
    "print(\"Model 2: Ridge Regression\")\n",
    "print(\"-------------------------\")\n",
    "print(f\"Features : {X_train.columns.tolist()}\")\n",
    "print(f\"Coefficients: {coef2[0]}\")\n",
    "print(f\"Intercept : {bias2[0]}\")\n",
    "print(f\"Coeff of Determination : {model2_r2}\")"
   ]
  },
  {
   "cell_type": "code",
   "execution_count": 78,
   "metadata": {
    "scrolled": true
   },
   "outputs": [
    {
     "name": "stdout",
     "output_type": "stream",
     "text": [
      "Model 3: Lasso Regression\n",
      "-------------------------\n",
      "Features : ['Price', 'Rooms', 'Distance_Office', 'Tax_Rate']\n",
      "Coefficients: [-0.44826566 -0.         -0.66165807  0.00694681]\n",
      "Intercept : 22.360058302502537\n",
      "Coeff of Determination : 0.6510829628860405\n"
     ]
    }
   ],
   "source": [
    "## model fitting for lasso\n",
    "\n",
    "from sklearn.linear_model import Lasso\n",
    "\n",
    "model3 = Lasso().fit(X_train, y_train)\n",
    "model3_r2 = model3.score(X_train, y_train)\n",
    "coef3 = model3.coef_\n",
    "bias3 = model3.intercept_\n",
    "\n",
    "print(\"Model 3: Lasso Regression\")\n",
    "print(\"-------------------------\")\n",
    "print(f\"Features : {X_train.columns.tolist()}\")\n",
    "print(f\"Coefficients: {coef3}\")\n",
    "print(f\"Intercept : {bias3[0]}\")\n",
    "print(f\"Coeff of Determination : {model3_r2}\")\n",
    "\n"
   ]
  },
  {
   "cell_type": "markdown",
   "metadata": {},
   "source": [
    "### 3. Model evaluation and selection [30% of Part II]"
   ]
  },
  {
   "cell_type": "markdown",
   "metadata": {},
   "source": [
    "**a.** For each model, predict the response variable on the test set."
   ]
  },
  {
   "cell_type": "code",
   "execution_count": 69,
   "metadata": {
    "scrolled": false
   },
   "outputs": [
    {
     "data": {
      "text/html": [
       "<div>\n",
       "<style scoped>\n",
       "    .dataframe tbody tr th:only-of-type {\n",
       "        vertical-align: middle;\n",
       "    }\n",
       "\n",
       "    .dataframe tbody tr th {\n",
       "        vertical-align: top;\n",
       "    }\n",
       "\n",
       "    .dataframe thead th {\n",
       "        text-align: right;\n",
       "    }\n",
       "</style>\n",
       "<table border=\"1\" class=\"dataframe\">\n",
       "  <thead>\n",
       "    <tr style=\"text-align: right;\">\n",
       "      <th></th>\n",
       "      <th>Low_Income</th>\n",
       "      <th>Model1_Low_Income_Predicted</th>\n",
       "      <th>Model2_Low_Income_Predicted</th>\n",
       "      <th>Model3_Low_Income_Predicted</th>\n",
       "    </tr>\n",
       "  </thead>\n",
       "  <tbody>\n",
       "    <tr>\n",
       "      <th>467</th>\n",
       "      <td>21.32</td>\n",
       "      <td>16.661475</td>\n",
       "      <td>16.661058</td>\n",
       "      <td>16.743947</td>\n",
       "    </tr>\n",
       "    <tr>\n",
       "      <th>78</th>\n",
       "      <td>12.34</td>\n",
       "      <td>11.972936</td>\n",
       "      <td>11.973937</td>\n",
       "      <td>12.304035</td>\n",
       "    </tr>\n",
       "    <tr>\n",
       "      <th>323</th>\n",
       "      <td>11.74</td>\n",
       "      <td>13.568656</td>\n",
       "      <td>13.562844</td>\n",
       "      <td>12.937123</td>\n",
       "    </tr>\n",
       "    <tr>\n",
       "      <th>185</th>\n",
       "      <td>13.15</td>\n",
       "      <td>9.537216</td>\n",
       "      <td>9.528462</td>\n",
       "      <td>8.262088</td>\n",
       "    </tr>\n",
       "    <tr>\n",
       "      <th>345</th>\n",
       "      <td>10.53</td>\n",
       "      <td>10.765660</td>\n",
       "      <td>10.766873</td>\n",
       "      <td>11.658422</td>\n",
       "    </tr>\n",
       "    <tr>\n",
       "      <th>...</th>\n",
       "      <td>...</td>\n",
       "      <td>...</td>\n",
       "      <td>...</td>\n",
       "      <td>...</td>\n",
       "    </tr>\n",
       "    <tr>\n",
       "      <th>231</th>\n",
       "      <td>5.25</td>\n",
       "      <td>6.913346</td>\n",
       "      <td>6.923850</td>\n",
       "      <td>7.853429</td>\n",
       "    </tr>\n",
       "    <tr>\n",
       "      <th>425</th>\n",
       "      <td>24.39</td>\n",
       "      <td>21.477340</td>\n",
       "      <td>21.484066</td>\n",
       "      <td>22.002523</td>\n",
       "    </tr>\n",
       "    <tr>\n",
       "      <th>418</th>\n",
       "      <td>20.62</td>\n",
       "      <td>21.288565</td>\n",
       "      <td>21.295830</td>\n",
       "      <td>21.849188</td>\n",
       "    </tr>\n",
       "    <tr>\n",
       "      <th>334</th>\n",
       "      <td>6.75</td>\n",
       "      <td>9.891819</td>\n",
       "      <td>9.894113</td>\n",
       "      <td>10.363791</td>\n",
       "    </tr>\n",
       "    <tr>\n",
       "      <th>22</th>\n",
       "      <td>18.72</td>\n",
       "      <td>14.889420</td>\n",
       "      <td>14.893282</td>\n",
       "      <td>15.047742</td>\n",
       "    </tr>\n",
       "  </tbody>\n",
       "</table>\n",
       "<p>124 rows × 4 columns</p>\n",
       "</div>"
      ],
      "text/plain": [
       "     Low_Income  Model1_Low_Income_Predicted  Model2_Low_Income_Predicted  \\\n",
       "467       21.32                    16.661475                    16.661058   \n",
       "78        12.34                    11.972936                    11.973937   \n",
       "323       11.74                    13.568656                    13.562844   \n",
       "185       13.15                     9.537216                     9.528462   \n",
       "345       10.53                    10.765660                    10.766873   \n",
       "..          ...                          ...                          ...   \n",
       "231        5.25                     6.913346                     6.923850   \n",
       "425       24.39                    21.477340                    21.484066   \n",
       "418       20.62                    21.288565                    21.295830   \n",
       "334        6.75                     9.891819                     9.894113   \n",
       "22        18.72                    14.889420                    14.893282   \n",
       "\n",
       "     Model3_Low_Income_Predicted  \n",
       "467                    16.743947  \n",
       "78                     12.304035  \n",
       "323                    12.937123  \n",
       "185                     8.262088  \n",
       "345                    11.658422  \n",
       "..                           ...  \n",
       "231                     7.853429  \n",
       "425                    22.002523  \n",
       "418                    21.849188  \n",
       "334                    10.363791  \n",
       "22                     15.047742  \n",
       "\n",
       "[124 rows x 4 columns]"
      ]
     },
     "execution_count": 69,
     "metadata": {},
     "output_type": "execute_result"
    }
   ],
   "source": [
    "y_pred = model1.predict(X_test)\n",
    "y_model = y_test.copy()\n",
    "y_model.insert(1,\"Model1_Low_Income_Predicted\",y_pred)\n",
    "y_pred = model2.predict(X_test)\n",
    "y_model.insert(2,\"Model2_Low_Income_Predicted\",y_pred)\n",
    "y_pred = model3.predict(X_test)\n",
    "y_model.insert(3,\"Model3_Low_Income_Predicted\",y_pred)\n",
    "y_model\n"
   ]
  },
  {
   "cell_type": "markdown",
   "metadata": {},
   "source": [
    "**b.** Describe the metric you use to evaluate your model(s). Report the test scores for each model."
   ]
  },
  {
   "cell_type": "code",
   "execution_count": 70,
   "metadata": {
    "scrolled": false
   },
   "outputs": [
    {
     "name": "stdout",
     "output_type": "stream",
     "text": [
      "Model 1 Evaluation\n",
      "-----------------\n",
      "MAE: 3.10\n",
      "MAE as % of mean: 23.0%\n",
      "RMSE: 4.09\n"
     ]
    }
   ],
   "source": [
    "## model 1 evaluation\n",
    "\n",
    "from sklearn.metrics import mean_absolute_error\n",
    "from sklearn.metrics import mean_squared_error\n",
    "\n",
    "# predict based on test set\n",
    "y_pred = model1.predict(X_test)\n",
    "\n",
    "# compare with ground truth\n",
    "mae = mean_absolute_error(y_test, y_pred)\n",
    "ave = np.mean(y_test[\"Low_Income\"])\n",
    "rmse = mean_squared_error(y_test, y_pred, squared = False)  # setting squared = False returns the square-root \n",
    "\n",
    "print(\"Model 1 Evaluation\")\n",
    "print(\"-----------------\")\n",
    "print(f\"MAE: {mae:.2f}\")\n",
    "print(f\"MAE as % of mean: {mae/ave*100:.1f}%\")\n",
    "print(f\"RMSE: {rmse:.2f}\")"
   ]
  },
  {
   "cell_type": "code",
   "execution_count": 71,
   "metadata": {},
   "outputs": [
    {
     "name": "stdout",
     "output_type": "stream",
     "text": [
      "Model 2 Evaluation\n",
      "-----------------\n",
      "MAE: 3.10\n",
      "MAE as % of mean: 23.0%\n",
      "RMSE: 4.09\n"
     ]
    }
   ],
   "source": [
    "## model 2 evaluation\n",
    "\n",
    "from sklearn.metrics import mean_absolute_error\n",
    "from sklearn.metrics import mean_squared_error\n",
    "\n",
    "y_pred = model2.predict(X_test)\n",
    "\n",
    "# compare with ground truth\n",
    "mae = mean_absolute_error(y_test, y_pred)\n",
    "ave = np.mean(y_test[\"Low_Income\"])\n",
    "rmse = mean_squared_error(y_test, y_pred, squared = False)  # setting squared = False returns the square-root \n",
    "\n",
    "print(\"Model 2 Evaluation\")\n",
    "print(\"-----------------\")\n",
    "print(f\"MAE: {mae:.2f}\")\n",
    "print(f\"MAE as % of mean: {mae/ave*100:.1f}%\")\n",
    "print(f\"RMSE: {rmse:.2f}\")"
   ]
  },
  {
   "cell_type": "code",
   "execution_count": 72,
   "metadata": {
    "scrolled": true
   },
   "outputs": [
    {
     "name": "stdout",
     "output_type": "stream",
     "text": [
      "Model 3 Evaluation\n",
      "-----------------\n",
      "MAE: 3.17\n",
      "MAE as % of mean: 23.5%\n",
      "RMSE: 4.35\n"
     ]
    }
   ],
   "source": [
    "## model 3 evaluation\n",
    "\n",
    "from sklearn.metrics import mean_absolute_error\n",
    "from sklearn.metrics import mean_squared_error\n",
    "\n",
    "y_pred = model3.predict(X_test)\n",
    "\n",
    "# compare with ground truth\n",
    "mae = mean_absolute_error(y_test, y_pred)\n",
    "ave = np.mean(y_test[\"Low_Income\"])\n",
    "rmse = mean_squared_error(y_test, y_pred, squared = False)  # setting squared = False returns the square-root \n",
    "\n",
    "print(\"Model 3 Evaluation\")\n",
    "print(\"-----------------\")\n",
    "print(f\"MAE: {mae:.2f}\")\n",
    "print(f\"MAE as % of mean: {mae/ave*100:.1f}%\")\n",
    "print(f\"RMSE: {rmse:.2f}\")"
   ]
  },
  {
   "cell_type": "markdown",
   "metadata": {},
   "source": [
    "**c.** If you trained more than one model, identify the final model you would choose for the prediction task, and explain your choice, **in no more than 50 words**."
   ]
  },
  {
   "cell_type": "markdown",
   "metadata": {},
   "source": [
    "Our group has chosen Linear (model 1) for the prediction task as it has the lowest MAE and RMSE,thus more precise in predicting the \"actual\" value. Additonally, the linear model has a slightly higher value of determination indicating a better fit. The model gives the following equation:\n",
    "\n",
    "\\begin{equation}\n",
    " Low_Income = 32.625 -0.37683 \\times Price  -1.6034 \\times Rooms -0.91081 \\times Distance_Office + 0.00476425 \\times Tax_Rate\n",
    "\\end{equation}"
   ]
  },
  {
   "cell_type": "markdown",
   "metadata": {},
   "source": [
    "### 4. Findings and conclusion [20% of Part II]"
   ]
  },
  {
   "cell_type": "markdown",
   "metadata": {},
   "source": [
    "**a.** Interpret what your model is implying, and summarize any insight you have drawn from the project. Explain if it is consistent with intuition, and if not, provide a plausible justification. Limit your entire response to **50 words**."
   ]
  },
  {
   "cell_type": "markdown",
   "metadata": {},
   "source": [
    "Low_Income is 32.625 when unaffected by variables, otherwise lowIncome is inversely proportional to Rooms, DistanceOffice, Price in descending order of magnitude of coefficient. LowIncome is directly proportional to TaxRate.\n",
    "\n",
    "Prediction is off by an absolute value of 3.10 which is 23% of the mean thus our predictions are off 23% on average.\n"
   ]
  },
  {
   "cell_type": "markdown",
   "metadata": {},
   "source": [
    "**Response.** "
   ]
  },
  {
   "cell_type": "markdown",
   "metadata": {},
   "source": [
    "**b.** Share any lesson you have learned from the project, in **no more than 50 words**."
   ]
  },
  {
   "cell_type": "markdown",
   "metadata": {},
   "source": [
    "This project allowed us to gain a myriad skills. We learned to apply our statistical knowledge by studying a large, real-world data set using Python, Numpy, Pandas, etc. We learnt to appreciate the art of visualising data and finding meaningful insights, as our intuition may not always be in-line with data."
   ]
  },
  {
   "cell_type": "markdown",
   "metadata": {},
   "source": [
    "### 5. Non-technical protocol [5% of Part II]"
   ]
  },
  {
   "cell_type": "markdown",
   "metadata": {},
   "source": [
    "**a.** Describe the detailed contribution of each team member, including both the tangible (e.g., implementation, testing, writing) and intangible (e.g., generating ideas, planning, leadership) efforts."
   ]
  },
  {
   "cell_type": "markdown",
   "metadata": {},
   "source": [
    "Our team had worked well together, with every member contributing to the project in one way or another. Even though not every task was done as a full team, we ensured to always inform each other on the progress of the project and every member was up to date on the progress. Any issues we had with the project was raised in our groupchat. We were able to collaborate and come to an agreement on issues easily. Each member had contributed ideas, and were good team players.\n",
    "\n",
    "Our team had split the workload into two teams, with one team being responsible for the programming (Zhao Xing, Yuan Sheng, Tan Zheng) and another team being responsible for communicating the team's findings (Shao Dong, Novia). \n",
    "\n",
    "Programming Team:\n",
    "This team was responsible for generating the outputs using the various python frameworks. They troubleshooted the issues that we had regarding the implementing the code. The team had great problem-solvers. This team worked together with the communication team to decide critical deicisions.\n",
    "\n",
    "Communication Team:\n",
    "This team was responsible for documentation and communicating key observations from the data. They also handled outliers in the pre-processing phase, and made critical decisions that required domain knowledge and strong communication skills to explain insights from the analysis of data.\n"
   ]
  },
  {
   "cell_type": "markdown",
   "metadata": {},
   "source": [
    "**b.** List any references and sources you have cited."
   ]
  },
  {
   "cell_type": "markdown",
   "metadata": {},
   "source": [
    "liner regression choice -https://medium.com/mlearning-ai/linear-regression-vs-ridge-regression-vs-lasso-regression-467d0df39cc9\n",
    "https://towardsdatascience.com/whats-the-difference-between-linear-regression-lasso-ridge-and-elasticnet-8f997c60cf29\n",
    "\n",
    "Selection of r^2 range - \n",
    "https://link.springer.com/article/10.1057/jt.2009.5#:~:text=Values%20between%200%20and%200.3,through%20a%20shaky%20linear%20rule.&text=Values%20between%200.3%20and%200.7,a%20fuzzy%2Dfirm%20linear%20rule."
   ]
  }
 ],
 "metadata": {
  "kernelspec": {
   "display_name": "Python 3 (ipykernel)",
   "language": "python",
   "name": "python3"
  },
  "language_info": {
   "codemirror_mode": {
    "name": "ipython",
    "version": 3
   },
   "file_extension": ".py",
   "mimetype": "text/x-python",
   "name": "python",
   "nbconvert_exporter": "python",
   "pygments_lexer": "ipython3",
   "version": "3.9.7"
  }
 },
 "nbformat": 4,
 "nbformat_minor": 2
}
